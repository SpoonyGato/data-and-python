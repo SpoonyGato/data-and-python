{
  "nbformat": 4,
  "nbformat_minor": 0,
  "metadata": {
    "colab": {
      "provenance": [],
      "include_colab_link": true
    },
    "kernelspec": {
      "name": "python3",
      "display_name": "Python 3"
    },
    "language_info": {
      "name": "python"
    }
  },
  "cells": [
    {
      "cell_type": "markdown",
      "metadata": {
        "id": "view-in-github",
        "colab_type": "text"
      },
      "source": [
        "<a href=\"https://colab.research.google.com/github/SpoonyGato/data-and-python/blob/main/Copy_of_04_Working_with_Datetime.ipynb\" target=\"_parent\"><img src=\"https://colab.research.google.com/assets/colab-badge.svg\" alt=\"Open In Colab\"/></a>"
      ]
    },
    {
      "cell_type": "markdown",
      "metadata": {
        "id": "7iQyKP-SQiw1"
      },
      "source": [
        "# User-defined functions using datetime library\n",
        "\n",
        "---\n"
      ]
    },
    {
      "cell_type": "markdown",
      "metadata": {
        "id": "Vi93h5I4QnKs"
      },
      "source": [
        "When working with dates and times, fairly common in data sets, we need to be able to extract certain bits of information.  \n",
        "\n",
        "In Python, as with other languages, dates and times are stored in a data **object** that combines the two together and stores the information as a number of seconds since a start point (often 1st January 1900).  This is obviously a large number but every bit of information about a date can be extracted from it and used to give a wide range of information.  \n",
        "\n",
        "Before you can use datetime functions you will need to import them. Import the datetime function with whichever of these is most appropriate for what you are doing:\n",
        "\n",
        "`from datetime import datetime`   \n",
        "`from datetime import datetime, timedelta`\n",
        "\n",
        "\n",
        "For more information about datetime functions visit [Python docs](https://docs.python.org/3/library/datetime.html)\n",
        "\n",
        "## Watch this [video](https://vimeo.com/989582446/90fd251483?share=copy) before you start"
      ]
    },
    {
      "cell_type": "markdown",
      "metadata": {
        "id": "MIDLi7CNR034"
      },
      "source": [
        "---\n",
        "### Exercise 1 - print current date and time\n",
        "\n",
        "Write a function that will get the date and time now, then print it.  \n",
        "\n",
        "*Hint:  the format has been added for you, the other exercises will follow a similar format.   Always remember to import datetime from datetime as shown below*\n",
        "\n",
        "`datetime.now()` can be used to get the current date and time  \n",
        "\n",
        "We use datetime to create a date/time object containing Year, Month, Day, Hour, Minutes, Seconds.  We can either tell it the date and time, we want it to create or ask it to create the date and time now.\n",
        "\n",
        "You can use:  \n",
        "`now = datetime.now()` to get the current date and time   \n",
        "\n",
        "You may notice that the time is out by an hour (due to British Summer Time).  Later you will see how it is possible to add an hour on when you create the date and time).    \n",
        "\n",
        "Examples of using datetime to create a date and time:  \n",
        "\n",
        "`now = datetime.now()`  \n",
        "`start_date = datetime(2024, 7, 22)` if no time is given, the time will be set to midnight  \n",
        "`end_date_time = datetime(2024, 9,4,19,0,0)`\n",
        "\n",
        "Examples of getting a day, month, year, hour, etc from a datetime (these examples use `end_date_time`):  \n",
        "`day = end_date_time.day`  \n",
        "`month = end_date_time.month`  \n",
        "`minute = end_date_time.minute`  \n",
        "\n",
        "\n",
        "\n",
        "\n"
      ]
    },
    {
      "cell_type": "code",
      "metadata": {
        "id": "gS6GJdXbQfHp",
        "colab": {
          "base_uri": "https://localhost:8080/"
        },
        "outputId": "6ba36b29-a5fa-4750-ecf6-b910701a75b5"
      },
      "source": [
        "from datetime import datetime\n",
        "\n",
        "def get_datetime_now():\n",
        "  # add your code to get the current date and time below here\n",
        "  now = datetime.now()\n",
        "\n",
        "  print(now)\n",
        "\n",
        "get_datetime_now()"
      ],
      "execution_count": null,
      "outputs": [
        {
          "output_type": "stream",
          "name": "stdout",
          "text": [
            "2024-07-28 17:01:19.642974\n"
          ]
        }
      ]
    },
    {
      "cell_type": "markdown",
      "metadata": {
        "id": "Yy24sL0bUtpF"
      },
      "source": [
        "---\n",
        "Exercise 2 - print the current year\n",
        "\n",
        "Write a function that will return the current year.  The caller will print the year."
      ]
    },
    {
      "cell_type": "code",
      "metadata": {
        "id": "YqlQqPIqUtyr",
        "colab": {
          "base_uri": "https://localhost:8080/"
        },
        "outputId": "e6750b71-56c8-4992-8039-4ba29f69ff37"
      },
      "source": [
        "from datetime import datetime\n",
        "def get_year():\n",
        "  now = datetime.now()\n",
        "  year = now.year\n",
        "  print(str(year))\n",
        "\n",
        "get_year()"
      ],
      "execution_count": null,
      "outputs": [
        {
          "output_type": "stream",
          "name": "stdout",
          "text": [
            "2024\n"
          ]
        }
      ]
    },
    {
      "cell_type": "markdown",
      "metadata": {
        "id": "FzSVCaJKV1O1"
      },
      "source": [
        "---\n",
        "### Exercise 3 - print the current day of the week\n",
        "\n",
        "Write a function that will return the current day of the week.  The caller will print it."
      ]
    },
    {
      "cell_type": "code",
      "metadata": {
        "id": "OP4ZIXBWV1Yj",
        "colab": {
          "base_uri": "https://localhost:8080/"
        },
        "outputId": "57c230cb-eb82-4bb2-9ce9-876b267d5a7b"
      },
      "source": [
        "from datetime import datetime\n",
        "\n",
        "def get_day_of_week():\n",
        "  now = datetime.now()\n",
        "  day = now.strftime(\"%A\")\n",
        "\n",
        "  print(day)\n",
        "\n",
        "get_day_of_week()"
      ],
      "execution_count": null,
      "outputs": [
        {
          "output_type": "stream",
          "name": "stdout",
          "text": [
            "Sunday\n"
          ]
        }
      ]
    },
    {
      "cell_type": "markdown",
      "metadata": {
        "id": "a8euCtdmWIDE"
      },
      "source": [
        "---\n",
        "### Exercise 4 - create a new date\n",
        "\n",
        "Write a function that will take 3 parameters, day, month, year (3 numbers that make a valid date) and will create, and return a new date.  The caller will print the date."
      ]
    },
    {
      "cell_type": "code",
      "metadata": {
        "id": "FbOFnTwnWILN",
        "colab": {
          "base_uri": "https://localhost:8080/"
        },
        "outputId": "0ee30ff6-4e7a-4a79-8689-63bb74b41187"
      },
      "source": [
        "from datetime import datetime\n",
        "def GenorateDate():\n",
        "  day = int(input(\"Please input Day:\"))\n",
        "  month = int(input(\"Please input Month:\"))\n",
        "  year = int(input(\"Please input Year:\"))\n",
        "\n",
        "  #Had to use the help of ai for this section as what I was writing into line 10 for the newdate wasnt working although my idea worked similarly to what I have written currently\n",
        "  newdate =f\"{day},{month},{year}\"\n",
        "\n",
        "  date = datetime.strptime(newdate, \"%d,%m,%Y\")\n",
        "  print(date)\n",
        "\n",
        "GenorateDate()"
      ],
      "execution_count": null,
      "outputs": [
        {
          "output_type": "stream",
          "name": "stdout",
          "text": [
            "Please input Day:10\n",
            "Please input Month:3\n",
            "Please input Year:2023\n",
            "2023-03-10 00:00:00\n"
          ]
        }
      ]
    },
    {
      "cell_type": "markdown",
      "metadata": {
        "id": "f5SKVuE0WfcE"
      },
      "source": [
        "---\n",
        "### Exercise 5 - create a date and time and use strftime() to print\n",
        "\n",
        "Write a function that ask the user to enter a day, month, year, hour, minute, second (6 numbers) and will the :  \n",
        "*   create a new datetime with that date and time  \n",
        "*   print the date and time as shown in the expected output below.  \n",
        "\n",
        "**Note:** You will need to join some strings together to create the message. Each part of the date will need to be converted to a string.  Do this with the datetime function strftime:  \n",
        "\n",
        " e.g. day.strftime(%d), month.strftime(%m), year.strftime(%Y), etc as you can only join strings with strings.  To find the codes for hour, minute and second visit [strftime.org](https://strftime.org/)\n",
        "\n",
        "**Test inputs**:  \n",
        "24  \n",
        "7  \n",
        "2024  \n",
        "17  \n",
        "30  \n",
        "0\n",
        "\n",
        "**Expected output**\n",
        "The set date is 24/7/2024 and time is 17.30.0"
      ]
    },
    {
      "cell_type": "code",
      "metadata": {
        "id": "gclt-f9-XfdG",
        "colab": {
          "base_uri": "https://localhost:8080/"
        },
        "outputId": "ce270191-8b8b-4d28-871b-1073d7664d2f"
      },
      "source": [
        "from datetime import datetime\n",
        "def GenorateDate():\n",
        "  day = int(input(\"Please input Day:\"))\n",
        "  month = int(input(\"Please input Month:\"))\n",
        "  year = int(input(\"Please input Year:\"))\n",
        "  hour = int(input(\"Please input Hour:\"))\n",
        "  minute = int(input(\"Please input Minute:\"))\n",
        "  second = int(input(\"Please input Second:\"))\n",
        "\n",
        "  new_date = datetime(year,month,day)\n",
        "  date =new_date.strftime(\"%d/%m/%Y\")\n",
        "\n",
        "  new_time = datetime(year, month, day, hour,minute,second)\n",
        "  time = new_time.strftime(\"%H:%M:%S\")\n",
        "\n",
        "  print(\"The set date is \" + date + \" and the time is \" + time)\n",
        "\n",
        "GenorateDate()\n",
        "\n"
      ],
      "execution_count": null,
      "outputs": [
        {
          "output_type": "stream",
          "name": "stdout",
          "text": [
            "Please input Day:10\n",
            "Please input Month:2\n",
            "Please input Year:12\n",
            "Please input Hour:1\n",
            "Please input Minute:12\n",
            "Please input Second:42\n",
            "The set date is 10/02/12 and the time is 01:12:42\n"
          ]
        }
      ]
    },
    {
      "cell_type": "markdown",
      "metadata": {
        "id": "js7fy2HWXfm2"
      },
      "source": [
        "---\n",
        "### Exercise 6 - show the date and time in different formats\n",
        "\n",
        "Write a function that will create the same date as before but will then print it in the following 2 formats (using strftime again)\n",
        "\n",
        "Wed 24 July 2024 at 1730 hours  \n",
        "30 minutes past 5pm on July 24 2024\n",
        "\n",
        "*Hint: use 12 hour clock as decimal and remember that you can convert a string to lower case for pm.*"
      ]
    },
    {
      "cell_type": "code",
      "metadata": {
        "id": "KY1jtf3lX_ps",
        "colab": {
          "base_uri": "https://localhost:8080/"
        },
        "outputId": "466e558d-8873-430e-ad35-2e269c47fec5"
      },
      "source": [
        "from datetime import datetime\n",
        "def GenorateDate():\n",
        "  day = int(input(\"Please input Day:\"))\n",
        "  month = int(input(\"Please input Month:\"))\n",
        "  year = int(input(\"Please input Year:\"))\n",
        "  hour = int(input(\"Please input Hour:\"))\n",
        "  minute = int(input(\"Please input Minute:\"))\n",
        "\n",
        "  new_date = datetime(year,month,day)\n",
        "  Nyear = new_date.strftime(\"%Y\")\n",
        "  Nmonth = new_date.strftime(\"%B\")\n",
        "  Ndate = new_date.strftime(\"%d\")\n",
        "  Nday = new_date.strftime(\"%A\")\n",
        "\n",
        "  new_time = datetime(year,month,day,hour,minute)\n",
        "  time = new_time.strftime(\"%H%M\")\n",
        "  Htime = new_time.strftime(\"%I%p\")\n",
        "  Mtime = new_time.strftime(\"%M\")\n",
        "\n",
        "  print(Nday + Ndate + Nmonth + Nyear + \" at \" + time + \" hours\")\n",
        "  print(Mtime + \"minutes past \" + Htime + \" \" + Nmonth + \" \" + Ndate + \" \" + Nyear)\n",
        "\n",
        "GenorateDate()"
      ],
      "execution_count": null,
      "outputs": [
        {
          "output_type": "stream",
          "name": "stdout",
          "text": [
            "Please input Day:24\n",
            "Please input Month:7\n",
            "Please input Year:2024\n",
            "Please input Hour:17\n",
            "Please input Minute:30\n",
            "Wednesday24July2024 at 1730 hours\n",
            "30minutes past 05PMJuly242024\n"
          ]
        }
      ]
    },
    {
      "cell_type": "markdown",
      "metadata": {
        "id": "9BuRDi08YAO0"
      },
      "source": [
        "---\n",
        "### Exercise 7 - display parts of date/time\n",
        "\n",
        "Write a function that will take a date and print from it the following:  \n",
        "*  given date and time  \n",
        "*  year (in full)\n",
        "*  month (as a number)\n",
        "*  month name\n",
        "*  week number of the year  \n",
        "*  weekday of the week (as a number)  \n",
        "*  day of year  \n",
        "*  day of the month  \n",
        "*  day of week (as a short name)  \n"
      ]
    },
    {
      "cell_type": "code",
      "metadata": {
        "id": "zl-37Ez9ahym",
        "colab": {
          "base_uri": "https://localhost:8080/"
        },
        "outputId": "76125406-4149-4a17-e57b-f149d447f0d9"
      },
      "source": [
        "from datetime import datetime\n",
        "def Display_Dates():\n",
        "  now = datetime.now()\n",
        "  year = now.year\n",
        "  month = now.month\n",
        "  day = now.day\n",
        "  hour = now.hour\n",
        "  second = now.second\n",
        "\n",
        "  full_year = now.strftime(\"%Y\")\n",
        "  N_month = now.strftime(\"%-m\")\n",
        "  full_month = now.strftime(\"%B\")\n",
        "  week_number = now.strftime(\"%W\")\n",
        "  day_number = now.strftime(\"%w\")\n",
        "  day_of_year = now.strftime(\"%-j\")\n",
        "  day_of_month = now.strftime(\"%-d\")\n",
        "  day_of_week = now.strftime(\"%a\")\n",
        "\n",
        "\n",
        "  print(now)\n",
        "  print(full_year)\n",
        "  print(N_month)\n",
        "  print(full_month)\n",
        "  print(week_number)\n",
        "  print(day_number)\n",
        "  print(day_of_year)\n",
        "  print(day_of_week)\n",
        "\n",
        "\n",
        "Display_Dates()\n"
      ],
      "execution_count": null,
      "outputs": [
        {
          "output_type": "stream",
          "name": "stdout",
          "text": [
            "2024-07-28 19:46:10.998094\n",
            "2024\n",
            "7\n",
            "July\n",
            "30\n",
            "0\n",
            "210\n",
            "Sun\n"
          ]
        }
      ]
    },
    {
      "cell_type": "markdown",
      "source": [
        "---\n",
        "# strptime\n",
        "The **strptime(**) function will help you to create a new datetime object from a string, rather than supplying the year, month, day, hour, etc as separate numbers.\n",
        "\n",
        "In data processing, dates often appear as strings and so being able to convert them into datetime data easily is very useful.\n",
        "\n",
        "`strptime()` uses the same formatting characters as `strftime()` so you can just supply date in text format and tell it what the format is.  \n",
        "\n",
        "e.g.  \n",
        "```\n",
        "date_string = \"11-24-1990\"\n",
        "new_date = datetime.strptime(date_string, \"%m-%d-%Y\")\n",
        "```\n",
        "If you only want to print the date you can use datetime.date()."
      ],
      "metadata": {
        "id": "6zhQ3j6OkIi9"
      }
    },
    {
      "cell_type": "markdown",
      "source": [
        "---\n",
        "### Exercise 8 - create a datetime from a string\n",
        "\n",
        "Write a function that will:  \n",
        "* create a string to hold a date in the format yyyy:dd:mm\n",
        "* print just the date\n",
        "* print date in the format as shown below:  \n",
        "`day name-day number-short month-year`  \n",
        "\n",
        "Test input:  \n",
        "2023:12:2\n",
        "\n",
        "Expected output:\n",
        "  \n",
        "Sun 12 Feb 2023"
      ],
      "metadata": {
        "id": "Ww3txeHOh7Rm"
      }
    },
    {
      "cell_type": "code",
      "source": [
        "from datetime import datetime\n",
        "def String_Storage():\n",
        "  user_date = str(input(\"please input date (yyyy:dd:mm): \"))\n",
        "\n",
        "  date = datetime.strptime(user_date, \"%Y:%d:%m\")\n",
        "  print(date)\n",
        "  N_day = date.strftime(\"%a\")\n",
        "  N_date = date.strftime(\"%d\")\n",
        "  half_month = date.strftime(\"%b\")\n",
        "  N_year = date.strftime(\"%Y\")\n",
        "  print(N_day + \" \" + N_date + \" \" + half_month + \" \" + N_year)\n",
        "\n",
        "String_Storage()\n"
      ],
      "metadata": {
        "id": "J0pX60wpiVrM",
        "colab": {
          "base_uri": "https://localhost:8080/"
        },
        "outputId": "d9bf2043-f962-41b8-af39-0714547c1abb"
      },
      "execution_count": null,
      "outputs": [
        {
          "output_type": "stream",
          "name": "stdout",
          "text": [
            "please input date (yyyy:dd:mm): 2023:12:2\n",
            "2023-02-12 00:00:00\n",
            "Sun 12 Feb 2023\n"
          ]
        }
      ]
    },
    {
      "cell_type": "markdown",
      "metadata": {
        "id": "_rpTIoSDaiBj"
      },
      "source": [
        "---\n",
        "### Exercise 9 - next 6 days - a challenge\n",
        "\n",
        "**Scenario**\n",
        "\n",
        "The timedelta function is part of the datetime library and will allow you to create a value to represent a number of days (or months, etc) so that you can create a date in the future (like an expiry date).\n",
        "\n",
        "Watch this [video](https://vimeo.com/989587133/fccf9cb783?share=copy) to see timedelta in use\n",
        "\n",
        "**Your task**\n",
        "\n",
        "Write a function that will take a date and generate the dates of the following 6 days.  It should print each of the 6 days in this format:  \n",
        "\n",
        "e.g.  \n",
        "Friday, May 24 2024  \n",
        "Saturday, May 25 2024  \n",
        "Sunday, May 26 2024\n",
        "Monday, May 27 2024\n",
        "Tuesday, May\n",
        "\n",
        "*Hint:  to generate the days, use the function datetime.timedelta(), there is a good example of its use [here](https://www.geeksforgeeks.org/python-datetime-timedelta-function/) *\n",
        "\n",
        "DON'T FORGET TO IMPORT timedelta as well as datetime"
      ]
    },
    {
      "cell_type": "code",
      "metadata": {
        "id": "1d-oXqLLb0vX",
        "colab": {
          "base_uri": "https://localhost:8080/"
        },
        "outputId": "e83e91d3-d060-4c55-a856-5eb8a03ad6c2"
      },
      "source": [
        "from datetime import datetime, timedelta\n",
        "\n",
        "def Advance_time():\n",
        "\n",
        "  date = datetime(2024, 5, 23)\n",
        "  day1 = date + timedelta(days=1)\n",
        "  day2 = date + timedelta(days=2)\n",
        "  day3 = date + timedelta(days=3)\n",
        "  day4 = date + timedelta(days=4)\n",
        "  day5 = date + timedelta(days=5)\n",
        "\n",
        "  print(day1.strftime(\"%A, %B %d %Y\"))\n",
        "  print(day2.strftime(\"%A, %B %d %Y\"))\n",
        "  print(day3.strftime(\"%A, %B %d %Y\") + \", \" + day4.strftime(\"%A, %B %d %Y\") + \", \" + day5.strftime(\"%A, %B %d %Y\"))\n",
        "\n",
        "Advance_time()"
      ],
      "execution_count": 3,
      "outputs": [
        {
          "output_type": "stream",
          "name": "stdout",
          "text": [
            "Friday, May 24 2024\n",
            "Saturday, May 25 2024\n",
            "Sunday, May 26 2024, Monday, May 27 2024, Tuesday, May 28 2024\n"
          ]
        }
      ]
    },
    {
      "cell_type": "markdown",
      "metadata": {
        "id": "22Rhwx2Sb1Ey"
      },
      "source": [
        "---\n",
        "### Optional extra practice\n",
        "\n",
        "There are some similar and some more challenging exercises [here](https://www.w3resource.com/python-exercises/date-time-exercise/) if you would like to practice more. The site has its own editor."
      ]
    },
    {
      "cell_type": "markdown",
      "source": [
        "---\n",
        "# Takeaways\n",
        "\n",
        "* the datetime library has a number of functions for working with dates\n",
        "* you have used the `datetime` function and `timedelta` function\n",
        "* the `strftime()` function helps you to format parts of the date and time into strings to help format the data into text and the `strptime()` function helps you to create dates with differently organised date strings\n",
        "* changing the format of dates is a common data cleaning task"
      ],
      "metadata": {
        "id": "ebyScSG_hKFV"
      }
    },
    {
      "cell_type": "markdown",
      "source": [
        "# Your thoughts on what you have learnt  \n",
        "\n",
        "Please add some comments in the box below to reflect on what you have learnt through completing this worksheet, and any problems you encountered while doing so.\n"
      ],
      "metadata": {
        "id": "zXCWqmiOpIME"
      }
    },
    {
      "cell_type": "markdown",
      "source": [
        "It was quite dificult, I still havent really wrapped my head around the whole strfttime strptime, but it was fun either way. Although I belive excercise 7 should be near the start of the work sheet, either being excercise 2/3.\n",
        "\n",
        "It would also be nice if there were some more questions to eas us into it although I do underst that this work sheet has been designer to be short."
      ],
      "metadata": {
        "id": "oDwUX3jVpTIr"
      }
    }
  ]
}
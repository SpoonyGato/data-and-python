{
  "nbformat": 4,
  "nbformat_minor": 0,
  "metadata": {
    "colab": {
      "provenance": [],
      "include_colab_link": true
    },
    "kernelspec": {
      "name": "python3",
      "display_name": "Python 3"
    },
    "language_info": {
      "name": "python"
    }
  },
  "cells": [
    {
      "cell_type": "markdown",
      "metadata": {
        "id": "view-in-github",
        "colab_type": "text"
      },
      "source": [
        "<a href=\"https://colab.research.google.com/github/SpoonyGato/data-and-python/blob/main/Copy_of_06_Creating_new_lists_with_for_loops.ipynb\" target=\"_parent\"><img src=\"https://colab.research.google.com/assets/colab-badge.svg\" alt=\"Open In Colab\"/></a>"
      ]
    },
    {
      "cell_type": "markdown",
      "metadata": {
        "id": "Z-M-RCWATK71"
      },
      "source": [
        "# Lists and loops\n",
        "\n",
        "A `for` loop is a Python construct that allows us to repeat a set of instructions a given number of times.  When using a for loop with a list, it will repeat exactly the same number of times as there are items in the list.\n",
        "\n",
        "If we want to create a new list, we could do this systematically with a loop that executes a given number of times.\n",
        "\n",
        "We do this using the range() function to generate a list of numbers to work through:\n",
        "\n",
        "`for i in range(10):`  will loop through the numbers 0 to 9 (ten distinct numbers starting at 0)  \n",
        "\n",
        "`for i in range(2,11):` will loop through the numbers 2 to 10 (missing 11 as we need to specify where to stop, so start at 2 and stop **before** 11).  \n",
        "\n"
      ]
    },
    {
      "cell_type": "markdown",
      "source": [
        "---\n",
        "### Exercise 1 - number list\n",
        "\n",
        "Write a function called **list_numbers()** which will:  \n",
        "\n",
        "*  create a new list containing all the whole numbers from 20 to 30 including both.       \n",
        "\n",
        "**Expected output**:  \n",
        "20  \n",
        "21  \n",
        "22  \n",
        "23  \n",
        "24  \n",
        "25  \n",
        "26  \n",
        "27  \n",
        "28  \n",
        "29  \n",
        "30    "
      ],
      "metadata": {
        "id": "jQWIC7v_eVzZ"
      }
    },
    {
      "cell_type": "code",
      "source": [
        "def number_list():\n",
        "  list_numbers = [20, 21, 22, 23, 24, 25, 26, 26, 27, 28, 29, 30]\n",
        "  for num in list_numbers:\n",
        "    print(num)\n",
        "\n",
        "number_list()"
      ],
      "metadata": {
        "id": "R2pLE7FVe1-x",
        "colab": {
          "base_uri": "https://localhost:8080/"
        },
        "outputId": "45aca7af-2cb1-4c07-da01-c45322a80419"
      },
      "execution_count": 6,
      "outputs": [
        {
          "output_type": "stream",
          "name": "stdout",
          "text": [
            "20\n",
            "21\n",
            "22\n",
            "23\n",
            "24\n",
            "25\n",
            "26\n",
            "26\n",
            "27\n",
            "28\n",
            "29\n",
            "30\n"
          ]
        }
      ]
    },
    {
      "cell_type": "markdown",
      "source": [
        "---\n",
        "### Using steps\n",
        "In general, if we use a range, we give a starting number and a stopping number (the first number that is out of the range in the direction we are counting). The default is to count up in 1s.\n",
        "\n",
        "When we want a loop to count in bigger steps, we can add a further parameter in the range brackets, which represents the size of the step.\n",
        "\n",
        "e.g. to print the even numbers up to 10 (starting with the first even number)\n",
        "\n",
        "```\n",
        "for i in range(2,11,2):\n",
        "   print(i)\n",
        "```\n",
        "\n",
        "e.g. to print all multiples of 5 from 5 to 50 (starting with the first multiple)\n",
        "\n",
        "for i in range(5,51,5):\n",
        "   print(i)  \n",
        "\n",
        "We can use steps to reverse the direction of counting. So to count backwards from 10 to 1, we can use a step of -1. Again, use the starting number, the number AFTER the last number to be included, in the direction we are counting, and the size and direction of the step.\n",
        "\n",
        "```\n",
        "for i in range(10, 0, -1):\n",
        "   print(i)\n",
        "```\n",
        "\n"
      ],
      "metadata": {
        "id": "zXXWZsiMeS4A"
      }
    },
    {
      "cell_type": "markdown",
      "source": [
        "---\n",
        "### Exercise 2 - list of evens  \n",
        "\n",
        "Write a function called **list_evens()** which will:  \n",
        "\n",
        "*  create a new list containing the even numbers from 2 to 20 (remember you can also count up in 2s)  \n",
        "*  print the list one item per line\n",
        "\n",
        "**Expected output**:  \n",
        "2  \n",
        "4  \n",
        "6  \n",
        "8  \n",
        "10  \n",
        "12  \n",
        "14  \n",
        "16  \n",
        "18  \n",
        "20  "
      ],
      "metadata": {
        "id": "RiRUjG-Pez4b"
      }
    },
    {
      "cell_type": "code",
      "source": [
        "def list_of_evens():\n",
        "  list_evens = [x for x in range(2,21,2)]\n",
        "  for num in list_evens:\n",
        "    print(num)\n",
        "\n",
        "list_of_evens()"
      ],
      "metadata": {
        "id": "WAtuD4JEfgIR",
        "colab": {
          "base_uri": "https://localhost:8080/"
        },
        "outputId": "5ea75c4b-76d0-4679-afcc-cf4354983e47"
      },
      "execution_count": 9,
      "outputs": [
        {
          "output_type": "stream",
          "name": "stdout",
          "text": [
            "2\n",
            "4\n",
            "6\n",
            "8\n",
            "10\n",
            "12\n",
            "14\n",
            "16\n",
            "18\n",
            "20\n"
          ]
        }
      ]
    },
    {
      "cell_type": "code",
      "source": [
        "def list_of_evens():\n",
        "  list_evens = []\n",
        "  for x in range(2,21,2):\n",
        "    list_evens.append(x)\n",
        "\n",
        "  for evens in list_evens:\n",
        "    print(evens)\n",
        "\n",
        "  print(list_evens)\n",
        "\n",
        "list_of_evens()"
      ],
      "metadata": {
        "colab": {
          "base_uri": "https://localhost:8080/"
        },
        "id": "P6cPHvGSd1Uf",
        "outputId": "9c75e53b-2f1e-4c74-f893-886c71b471d4"
      },
      "execution_count": 11,
      "outputs": [
        {
          "output_type": "stream",
          "name": "stdout",
          "text": [
            "2\n",
            "4\n",
            "6\n",
            "8\n",
            "10\n",
            "12\n",
            "14\n",
            "16\n",
            "18\n",
            "20\n",
            "[2, 4, 6, 8, 10, 12, 14, 16, 18, 20]\n"
          ]
        }
      ]
    },
    {
      "cell_type": "markdown",
      "source": [
        "---\n",
        "### Exercise 3 - list multiples  \n",
        "\n",
        "Write a function called **list_multiples()** which will:\n",
        "\n",
        "*  create a new list containing the multiples of 3 from 3 to 36\n",
        "*  print the list one item per line\n",
        "\n",
        "Expected output:  \n",
        "3  \n",
        "6  \n",
        "9  \n",
        "12  \n",
        "15  \n",
        "18  \n",
        "21  \n",
        "24  \n",
        "27  \n",
        "30  \n",
        "33  \n",
        "36  "
      ],
      "metadata": {
        "id": "Tlrfzw8AfgmR"
      }
    },
    {
      "cell_type": "code",
      "source": [
        "def list_of_multiples():\n",
        "  list_multiples = [ x for x in range(3,37,3)]\n",
        "  for num in list_multiples:\n",
        "    print(num)\n",
        "\n",
        "list_of_multiples()"
      ],
      "metadata": {
        "id": "bxAEHcSmg5Gi",
        "colab": {
          "base_uri": "https://localhost:8080/"
        },
        "outputId": "23537309-a6d8-4036-c883-cebec04be26f"
      },
      "execution_count": 13,
      "outputs": [
        {
          "output_type": "stream",
          "name": "stdout",
          "text": [
            "3\n",
            "6\n",
            "9\n",
            "12\n",
            "15\n",
            "18\n",
            "21\n",
            "24\n",
            "27\n",
            "30\n",
            "33\n",
            "36\n"
          ]
        }
      ]
    },
    {
      "cell_type": "markdown",
      "source": [
        "---\n",
        "### Exercise 4 - reverse list\n",
        "\n",
        "Write a function called list_reverse() which will:\n",
        "\n",
        "*  create a new list containing the numbers 5 to 15 in reverse  \n",
        "*  print the list, one item per line\n",
        "\n",
        "Expected output:  \n",
        "15  \n",
        "14  \n",
        "13  \n",
        "12  \n",
        "11  \n",
        "10  \n",
        "9  \n",
        "8  \n",
        "7  \n",
        "6  \n",
        "5  "
      ],
      "metadata": {
        "id": "BhXUJwiMf9qJ"
      }
    },
    {
      "cell_type": "code",
      "source": [
        "def reverse_list():\n",
        "  list_reverse = [x for x in range(15, 4, -1)]\n",
        "  for num in list_reverse:\n",
        "    print(num)\n",
        "\n",
        "reverse_list()"
      ],
      "metadata": {
        "id": "lPOBhSI2g7WI",
        "colab": {
          "base_uri": "https://localhost:8080/"
        },
        "outputId": "c5e7cd43-594b-4fe4-9f82-67ba8f41e3ad"
      },
      "execution_count": 14,
      "outputs": [
        {
          "output_type": "stream",
          "name": "stdout",
          "text": [
            "15\n",
            "14\n",
            "13\n",
            "12\n",
            "11\n",
            "10\n",
            "9\n",
            "8\n",
            "7\n",
            "6\n",
            "5\n"
          ]
        }
      ]
    },
    {
      "cell_type": "markdown",
      "source": [
        "---\n",
        "### Exercise 5 - calculating times table (Challenging)\n",
        "\n",
        "Write a function called **display_times_table()** which will:  \n",
        "\n",
        "*  ask the user to input a **number**\n",
        "*  create a list of the multiples of that number (use a for loop and the `range()` function to calculate the first ten multiples of that number)  \n",
        "*  print a times table entry as shown below for each item in the list\n",
        "\n",
        "Test Input:  \n",
        "4  \n",
        "\n",
        "Expected output:  \n",
        "1 x 4 = 4  \n",
        "2 x 4 = 8  \n",
        "3 x 4 = 12  \n",
        "4 x 4 = 16  \n",
        "5 x 4 = 20  \n",
        "6 x 4 = 24  \n",
        "7 x 4 = 28  \n",
        "8 x 4 = 32  \n",
        "9 x 4 = 36  \n",
        "10 x 4 = 40  "
      ],
      "metadata": {
        "id": "Wz3qjHPVhfp8"
      }
    },
    {
      "cell_type": "code",
      "metadata": {
        "id": "UqV817Ct-5qv",
        "colab": {
          "base_uri": "https://localhost:8080/"
        },
        "outputId": "21170be4-1b7f-4306-ac4b-15aea03eb89f"
      },
      "source": [
        "def calculating_times_table():\n",
        "  user_num = int(input(\"Pleas put in a whole number\"))\n",
        "  for i in range(1,11):\n",
        "    print(f\"{i} x {user_num} = {user_num*i}\")\n",
        "\n",
        "calculating_times_table()"
      ],
      "execution_count": 16,
      "outputs": [
        {
          "output_type": "stream",
          "name": "stdout",
          "text": [
            "Pleas put in a whole number5\n",
            "1 x 5 = 5\n",
            "2 x 5 = 10\n",
            "3 x 5 = 15\n",
            "4 x 5 = 20\n",
            "5 x 5 = 25\n",
            "6 x 5 = 30\n",
            "7 x 5 = 35\n",
            "8 x 5 = 40\n",
            "9 x 5 = 45\n",
            "10 x 5 = 50\n"
          ]
        }
      ]
    },
    {
      "cell_type": "markdown",
      "metadata": {
        "id": "jOukVT7--6rI"
      },
      "source": [
        "### Exercise 6 - counting down numbers in reverse\n",
        "\n",
        "Write a function called **countdown()** which will:\n",
        "\n",
        "*  ask the user to input a **number**\n",
        "*  prints numbers in a countdown starting at `number`, decreasing by 1 each time round the loop and finishing at 1\n",
        "*  after the loop, print (\"GO\")  (*Hint: only instructions indented to the same level under the 'for' instruction are part of the loop, as soon as you stop indenting to that level, and go back to the level above the 'for' these instructions are no longer in the loop)\n",
        "\n",
        "Test Input:  \n",
        "9    \n",
        "\n",
        "Expected output:   \n",
        "9  \n",
        "8  \n",
        "7  \n",
        "6  \n",
        "5  \n",
        "4  \n",
        "3  \n",
        "2  \n",
        "1  \n",
        "GO  \n"
      ]
    },
    {
      "cell_type": "code",
      "metadata": {
        "id": "0yZ7PP7HAVdO",
        "colab": {
          "base_uri": "https://localhost:8080/"
        },
        "outputId": "9f453507-3bc3-4008-eb1d-ff2fb2dcb8bb"
      },
      "source": [
        "def countdown():\n",
        "  user_num = int(input(\"Pleas input a number: \"))\n",
        "  for i in range(user_num,0,-1):\n",
        "    print(i)\n",
        "  print(\"GO!\")\n",
        "\n",
        "countdown()"
      ],
      "execution_count": 22,
      "outputs": [
        {
          "output_type": "stream",
          "name": "stdout",
          "text": [
            "Pleas input a number: 9\n",
            "9\n",
            "8\n",
            "7\n",
            "6\n",
            "5\n",
            "4\n",
            "3\n",
            "2\n",
            "1\n",
            "GO!\n"
          ]
        }
      ]
    },
    {
      "cell_type": "markdown",
      "source": [
        "---\n",
        "# List comprehension (generating new lists with lists of numbers)\n",
        "\n",
        "You can use a special format for creating lists so that rather than typing all items of the list individually, they will be generated using Python code.\n",
        "\n",
        "**Examples:**\n",
        "\n",
        "Generate a list of twelve 0s (\n",
        "\n",
        "`zero_list = [0 for x in range(12)]`\n",
        "\n",
        "Generate a list of the numbers from 0 to 49\n",
        "\n",
        "`fifty_list = [x for x in range(50)]`\n",
        "\n",
        "Generate a list of the first 10 square numbers\n",
        "\n",
        "`squares_list = [ x**2 for x in range(10)]`\n",
        "\n",
        "Generate a list of the numbers from 5 to 15\n",
        "\n",
        "`numbers_list = [x for x in range(5, 16)]`\n",
        "\n",
        "Think about how these lists are being generated.  The first part describes what x will look like (always 0, the current number or the square of the current number)  the part `for x in range(...)` describes the number of items in the list and can sometimes be used to determine value.\n",
        "\n",
        "Use the code box below to see what the output of the lists suggested above would look like."
      ],
      "metadata": {
        "id": "ozooDZjhRI_C"
      }
    },
    {
      "cell_type": "code",
      "source": [
        "generated_list =[ x**2 for x in range(10)]\n",
        "print(generated_list)"
      ],
      "metadata": {
        "id": "rwjLa22yRvlw",
        "colab": {
          "base_uri": "https://localhost:8080/"
        },
        "outputId": "c4a8a46b-e483-43ea-960b-ed9737f4b53d"
      },
      "execution_count": 26,
      "outputs": [
        {
          "output_type": "stream",
          "name": "stdout",
          "text": [
            "[0, 1, 4, 9, 16, 25, 36, 49, 64, 81]\n"
          ]
        }
      ]
    },
    {
      "cell_type": "markdown",
      "source": [
        "---\n",
        "### Exercise 10 - generate a list of numbers from 1 to 10\n",
        "\n",
        "Write a function **generate_number_list()** that will:\n",
        "\n",
        "*  use list comprehension techniques to create a list of all the whole numbers between 1 and 10\n",
        "*  use a for loop to print the list one number per line\n"
      ],
      "metadata": {
        "id": "PVAdsXHLQqZt"
      }
    },
    {
      "cell_type": "code",
      "source": [
        "def generate_number_list():\n",
        "  num_list = [x for x in range(11)]\n",
        "  for num in num_list:\n",
        "    print(num)\n",
        "\n",
        "generate_number_list()"
      ],
      "metadata": {
        "id": "6jqnXL0rUiZj",
        "colab": {
          "base_uri": "https://localhost:8080/"
        },
        "outputId": "345ebd39-ba50-4480-8608-375e91863f06"
      },
      "execution_count": 33,
      "outputs": [
        {
          "output_type": "stream",
          "name": "stdout",
          "text": [
            "0\n",
            "1\n",
            "2\n",
            "3\n",
            "4\n",
            "5\n",
            "6\n",
            "7\n",
            "8\n",
            "9\n",
            "10\n"
          ]
        }
      ]
    },
    {
      "cell_type": "markdown",
      "source": [
        "---\n",
        "### Optional challenge - generate a list of the letters between A and Z using the ord() function\n",
        "\n",
        "Computers recognise letter as number codes (ASCII codes).  In this coding system the letter A is coded 65, the letter Z is coded 90 and all the other capital letters have the numbers in between, in order.\n",
        "\n",
        "To get the letter, use chr(code)  e.g. chr(65) will give A, chr(68) will give D\n",
        "\n",
        "Write a function **generate_alphabet()** that will:\n",
        "\n",
        "*  use list comprehension to create the list of letters from A to Z using the numbers from 65 to 90 and converting the number (x) to its letter using chr(x)\n",
        "*  print the list to show the alphabet"
      ],
      "metadata": {
        "id": "O0NS2nwuUi73"
      }
    },
    {
      "cell_type": "code",
      "source": [
        "def A2Z():\n",
        "  letter = [x for x in range(65,91)]\n",
        "  for num in letter:\n",
        "    print(chr(num))\n",
        "\n",
        "A2Z()"
      ],
      "metadata": {
        "id": "8zsQQkNDV9ur",
        "colab": {
          "base_uri": "https://localhost:8080/"
        },
        "outputId": "d0c47e29-fbef-4374-af2f-53b16b5d4703"
      },
      "execution_count": 38,
      "outputs": [
        {
          "output_type": "stream",
          "name": "stdout",
          "text": [
            "A\n",
            "B\n",
            "C\n",
            "D\n",
            "E\n",
            "F\n",
            "G\n",
            "H\n",
            "I\n",
            "J\n",
            "K\n",
            "L\n",
            "M\n",
            "N\n",
            "O\n",
            "P\n",
            "Q\n",
            "R\n",
            "S\n",
            "T\n",
            "U\n",
            "V\n",
            "W\n",
            "X\n",
            "Y\n",
            "Z\n"
          ]
        }
      ]
    },
    {
      "cell_type": "markdown",
      "source": [
        "---\n",
        "# Takeaways\n",
        "\n",
        "*  the range() function will generate a list of integers either from 0 up to a given number e.g. `range(6)` or between two given numbers e.g. `range(10,20)`\n",
        "* by default, a range will count up in intervals of 1 but you can tell it to count up with any interval, e.g. range(1,10,2) to count up in 2s or range(30, 10, -1) to count backwards  \n",
        "*  there is a special syntax for creating lists like this in one line, called list comprehension\n",
        "*  a list of characters can be generated in this way as they are actually stored as numbers.  ord(character) will get the number and chr(number) will convert the number into the character.  Capital letters use the numbers from 65(A) to 90(Z), lower case letters use the numbers from 97(a) to 122(z)"
      ],
      "metadata": {
        "id": "HB_-DlaMzujh"
      }
    },
    {
      "cell_type": "markdown",
      "source": [
        "# Your thoughts on what you have learnt  \n",
        "\n",
        "Please add some comments in the box below to reflect on what you have learnt through completing this worksheet, and any problems you encountered while doing so."
      ],
      "metadata": {
        "id": "-YmBfGdyhrLI"
      }
    },
    {
      "cell_type": "markdown",
      "source": [
        "I got confused with the term \"list\" at the start, when asked to create a list, I assumed that you wanted me to create a list ie: \" x = [1, 2, 3, 4] \" not just printing a line at a time to create a list, so I have effectivley started from excercise 7 at the start. I think changing the wording of the excercise or maybe defing \"create a List\" and \"code a list\" so iron out a distinction of intent would help mitigate any confusion in the future.\n",
        "\n",
        "Also excersies 7,8,9 arnt present in the work sheet.\n",
        "\n",
        "Other than thoes points, it was a pretty good work sheet, I enjoyed the challeng my missunderstanding caused."
      ],
      "metadata": {
        "id": "fvaBWUBzh28v"
      }
    }
  ]
}
{
  "nbformat": 4,
  "nbformat_minor": 0,
  "metadata": {
    "colab": {
      "provenance": [],
      "include_colab_link": true
    },
    "kernelspec": {
      "name": "python3",
      "display_name": "Python 3"
    }
  },
  "cells": [
    {
      "cell_type": "markdown",
      "metadata": {
        "id": "view-in-github",
        "colab_type": "text"
      },
      "source": [
        "<a href=\"https://colab.research.google.com/github/SpoonyGato/data-and-python/blob/main/Copy_of_03_Working_with_strings.ipynb\" target=\"_parent\"><img src=\"https://colab.research.google.com/assets/colab-badge.svg\" alt=\"Open In Colab\"/></a>"
      ]
    },
    {
      "cell_type": "markdown",
      "metadata": {
        "id": "GdT0fwTCa4gI"
      },
      "source": [
        "# Working with Strings"
      ]
    },
    {
      "cell_type": "markdown",
      "source": [
        "---\n",
        "### String data\n",
        "\n",
        "One of the smallest file formats for storing data is CSV (Comma Separated Values).  A CSV file is a text file in which table data is organised in rows, with values separated by commas.  CSV files can be opened in spreadsheet software but are a fraction of the size of an Excel file.  \n",
        "\n",
        "This makes them the ideal choice for storing data and transferring it over networks.\n",
        "\n",
        "Learning to work with strings, finding substrings, capitalising, will have value when cleaning and transforming data."
      ],
      "metadata": {
        "id": "UinO7YCjGNZP"
      }
    },
    {
      "cell_type": "markdown",
      "source": [
        "---\n",
        "## Creating string data and joining strings together\n",
        "\n",
        "String variables are often used to hold names of things but also used to hold descriptions, messages, etc.  To assign string data to a variable, encase the text in \"\"  \n",
        "\n",
        "`name = \"Monty\"`  \n",
        "`description = \"A large snake\"`\n",
        "\n",
        "We often need to join strings together.  This might be to add a prefix to a filename, create an identifier, etc.\n",
        "\n",
        "Here is an example.  A function will add \"Q1_\" to the beginning of a `filename`.\n",
        "\n",
        "```\n",
        "new_filename = \"q1_\" + filename\n",
        "```\n",
        "So if `filename` is \"inventory.xlsx\" then `new_filename` will be \"Q1_inventory.xlsx\"\n",
        "\n",
        "Here is another example.  A function has done something and there has been an error with a `code` and a `description`.  The function needs to show an error message, so it creates a message with the code and description included.\n",
        "\n",
        "If the `code` is \"404\" and the `description` is \"file not found\", then the message can be generated like this:\n",
        "\n",
        "`message = \"Error \" + code + \" has occurred: \" + description`\n",
        "\n",
        "Now message will have the value \"Error 404 has occurred: file not found\"\n",
        "\n",
        "\n",
        "\n"
      ],
      "metadata": {
        "id": "Qpv0IlhYacwJ"
      }
    },
    {
      "cell_type": "markdown",
      "metadata": {
        "id": "ozWLM6Pfa7d_"
      },
      "source": [
        "---\n",
        "### Exercise 1 input and strings\n",
        "\n",
        "**Scenario**\n",
        "\n",
        "A system is needed to help collect personal data.  YOu have been asked to create a function that will collect a first, middle and last name\n",
        "\n",
        "**Recap**: to get input from the user and store it in a variable, use the instruction  \n",
        "\n",
        "*variableName = input(\"message asking user for required information\")*  \n",
        "\n",
        "*Remember: Unless you state otherwise, all input is String data*  \n",
        "\n",
        "**Your task**\n",
        "\n",
        "Write a function called **show_details()** which will:\n",
        "\n",
        "*  ask the user to input a **first_name**  \n",
        "*  ask the user to input a **middle_name**  \n",
        "*  ask the user to input a **surname**  \n",
        "*  print the name in the format: `surname`, `first_name` `middle_name`  \n",
        "\n",
        "**Test Inputs**:  \n",
        "Peter  \n",
        "Barry  \n",
        "Burrows  \n",
        "\n",
        "**Expected output**:  \n",
        "Burrows, Peter Barry\n"
      ]
    },
    {
      "cell_type": "code",
      "metadata": {
        "id": "lMJckNo-ab3z",
        "colab": {
          "base_uri": "https://localhost:8080/"
        },
        "outputId": "21841ae0-f2c8-4f36-8083-c4800af8d996"
      },
      "source": [
        "def show_details():\n",
        "  first_name = str(input(\"Please provide first name :\"))\n",
        "  middle_name = str(input(\"Please provide middle name :\"))\n",
        "  surname = str(input(\"Please provide surname :\"))\n",
        "\n",
        "  print(first_name + \", \" + middle_name + \" \"  + surname)\n",
        "\n",
        "show_details()"
      ],
      "execution_count": 2,
      "outputs": [
        {
          "output_type": "stream",
          "name": "stdout",
          "text": [
            "Please provide first name :Michal\n",
            "Please provide middle name :J\n",
            "Please provide surname :Fox\n",
            "Michal J Fox\n"
          ]
        }
      ]
    },
    {
      "cell_type": "markdown",
      "metadata": {
        "id": "1Pvs8lp3bfYQ"
      },
      "source": [
        "# Substrings\n",
        "\n",
        "---\n",
        "\n",
        "A String is a set of characters. Each String has a length and each character in the string has a position or index. Indexing starts at 0 so the first character of a String is at position 0. As Strings have varying lengths, the last character of the String is at position -1. To find any character in the String, count from 0 or, if you want to count backwards from the end, count back from -1.  \n",
        "\n",
        "You can get a particular character, or a set of consecutive characters (substring) from a String using [] and the positions of the characters you want.  \n",
        "\n",
        "Example:  \n",
        "To get the first letter of a String (in this case the String is called **name**)   \n",
        "**first_letter** = `name`[0]  \n",
        "**second_letter** = `name`[1]  \n",
        "**sixth_letter** = `name`[5]  \n",
        "\n",
        "To get the last letter of name:  \n",
        "**last_letter** = `name`[-1]  \n",
        "**second_last_letter** = `name`[-2]  \n",
        "**third_last_letter** = `name`[-3]  \n",
        "\n",
        "Have a go"
      ]
    },
    {
      "cell_type": "code",
      "metadata": {
        "id": "1EMg6ff7bw7o",
        "colab": {
          "base_uri": "https://localhost:8080/"
        },
        "outputId": "8ffe46e2-dc5c-4c7e-9a1e-511666fe4778"
      },
      "source": [
        "def show_letters():\n",
        "   name = \"Robert\"\n",
        "   # add your code below here to get a particular letter and print it.\n",
        "   first_letter = name[0]\n",
        "   second_letter = name[1]\n",
        "   sixth_letter = name[5]\n",
        "\n",
        "   last_letter = name[-1]\n",
        "   second_last_letter = name[-2]\n",
        "   third_last_letter = name[-3]\n",
        "\n",
        "   print(first_letter + second_letter + sixth_letter)\n",
        "   print(last_letter + second_last_letter + third_last_letter)\n",
        "\n",
        "\n",
        "\n",
        "show_letters()"
      ],
      "execution_count": 3,
      "outputs": [
        {
          "output_type": "stream",
          "name": "stdout",
          "text": [
            "Rot\n",
            "tre\n"
          ]
        }
      ]
    },
    {
      "cell_type": "markdown",
      "metadata": {
        "id": "FfkpprKbb0Eu"
      },
      "source": [
        "To get a set of letters from a String, use the slice operator \":\".  \n",
        "\n",
        "*substring = stringname[ index of first letter to be included_ : index + 1 of last letter ]*\n",
        "\n",
        "Example:  \n",
        "\n",
        "**first_three_letters** = `name`[0:3]  \n",
        "**second_to_fifth_letters** = `name`[1:5]  \n",
        "**last_three_letters** = `name`[-3:]  \n",
        "\n",
        "*Note: we can't add 1 to -1 as the result would be 0 and confused with the first letter, so we omit the second number to indicate that we want all characters to the end of the string*"
      ]
    },
    {
      "cell_type": "code",
      "metadata": {
        "id": "FGQj_JCVcPGj",
        "colab": {
          "base_uri": "https://localhost:8080/"
        },
        "outputId": "1719f204-a966-4c26-a6ce-b80a604fbabf"
      },
      "source": [
        "def show_substrings():\n",
        "   name = \"Robert\"\n",
        "   # add your code below here to get a particular letter, or set of letters and print them.\n",
        "   first_three_letter = name[0:3]\n",
        "   second_to_fith_letters = name[1:5]\n",
        "   last_three_letters = name[-3:]\n",
        "\n",
        "   print(first_three_letter)\n",
        "   print(second_to_fith_letters)\n",
        "   print(last_three_letters)\n",
        "\n",
        "\n",
        "show_substrings()"
      ],
      "execution_count": 4,
      "outputs": [
        {
          "output_type": "stream",
          "name": "stdout",
          "text": [
            "Rob\n",
            "ober\n",
            "ert\n"
          ]
        }
      ]
    },
    {
      "cell_type": "markdown",
      "metadata": {
        "id": "Cb2OHs_jcQFv"
      },
      "source": [
        "---\n",
        "### Exercise 2 - substrings\n",
        "\n",
        "Write a function called **show_substring()** which will:\n",
        "\n",
        "Ask the user to input a **name** of at least 5 letters  \n",
        "Print the **second** to the **fourth** letters in the `name`  \n",
        "\n",
        "**Test Inputs**:  \n",
        "Bartholomew  \n",
        "\n",
        "**Expected output**:  \n",
        "art\n"
      ]
    },
    {
      "cell_type": "code",
      "metadata": {
        "id": "IfABvmw2cgfH",
        "colab": {
          "base_uri": "https://localhost:8080/"
        },
        "outputId": "7b02d193-9fba-435b-c50e-2afd0ccb0dee"
      },
      "source": [
        "def show_substing():\n",
        "  name = str(input(\"Please input name with minimum of 5 characters: \"))\n",
        "  second_to_forth = name[1:4]\n",
        "\n",
        "  print(second_to_forth)\n",
        "\n",
        "show_substing()"
      ],
      "execution_count": 7,
      "outputs": [
        {
          "output_type": "stream",
          "name": "stdout",
          "text": [
            "Please input name with minimum of 5 characters: Bartholomew\n",
            "art\n"
          ]
        }
      ]
    },
    {
      "cell_type": "markdown",
      "metadata": {
        "id": "6ryO1LJMchLQ"
      },
      "source": [
        "---\n",
        "### Exercise 3  - Formatting String output  \n",
        "\n",
        "Write a function called **show_formatted()** which will:  \n",
        "\n",
        "*  ask the user to input a **house_number**\n",
        "*  ask the user to input a **road_name**, then a **town**, then a **postcode**  \n",
        "*  print the three lines of the address(`house_number` with a comma and `road_name`, `town`, `postcode`)  \n",
        "\n",
        "**Test Input**:  \n",
        "10  \n",
        "Old Road  \n",
        "Chatham  \n",
        "ME4 1AA  \n",
        "\n",
        "**Expected output**:   \n",
        "10, Old Road  \n",
        "Chatham  \n",
        "ME4 1AA  "
      ]
    },
    {
      "cell_type": "code",
      "metadata": {
        "id": "qNHq7Ub4c1xP",
        "colab": {
          "base_uri": "https://localhost:8080/"
        },
        "outputId": "c948a4a0-8899-48c3-9070-2b954016cae6"
      },
      "source": [
        "def show_formatted():\n",
        "  house_number = int(input(\"Please put in house number: \"))\n",
        "  road_name = str(input(\"please put in road name: \"))\n",
        "  town_name = str(input(\"Please put in town name: \"))\n",
        "  postcode = str(input(\"Please put in postcode: \"))\n",
        "\n",
        "  print(str(house_number) + \", \" + road_name)\n",
        "  print(town_name)\n",
        "  print(postcode)\n",
        "\n",
        "show_formatted()"
      ],
      "execution_count": 10,
      "outputs": [
        {
          "output_type": "stream",
          "name": "stdout",
          "text": [
            "Please put in house number: 10\n",
            "please put in road name: Old Road\n",
            "Please put in town name: Chatham\n",
            "Please put in postcode: ME4 1AA\n",
            "10, Old Road\n",
            "Chatham\n",
            "ME4 1AA\n"
          ]
        }
      ]
    },
    {
      "cell_type": "markdown",
      "metadata": {
        "id": "E4BkKHlyc2BA"
      },
      "source": [
        "# String functions\n",
        "\n",
        "## String length\n",
        "\n",
        "You can get the length of a String using the len() function   \n",
        "e.g. **namelength** = len(`name`)  \n",
        "\n",
        "The length function can be useful in finding strings that are too long to fit in output boxes, to check the length of a password to ensure that it fits the password rules.\n"
      ]
    },
    {
      "cell_type": "markdown",
      "metadata": {
        "id": "B0-NtV3uc8UC"
      },
      "source": [
        "---\n",
        "### Exercise 4 - String length  \n",
        "\n",
        "Write a function called **show_namelength()** which will:  \n",
        "\n",
        "*  ask the user to input a **name**  \n",
        "*  assign the length of the name to a variable called **name_length**  \n",
        "*  print the `name` followed by a comma, then `name_length`, then the word “characters”.\n",
        "\n",
        "**Test Input**:  \n",
        "William  \n",
        "\n",
        "**Expected Output**:  \n",
        "William, 7 characters"
      ]
    },
    {
      "cell_type": "code",
      "metadata": {
        "id": "ldWAjdrIdOzn",
        "colab": {
          "base_uri": "https://localhost:8080/"
        },
        "outputId": "befae689-6c9d-4fc2-d230-35d80823b6a6"
      },
      "source": [
        "def show_namelength():\n",
        "  name = str(input(\"Please input a name: \"))\n",
        "  name_length = len(name)\n",
        "\n",
        "  print(name + \", \" + str(name_length) + \" charachters\")\n",
        "\n",
        "show_namelength()"
      ],
      "execution_count": 12,
      "outputs": [
        {
          "output_type": "stream",
          "name": "stdout",
          "text": [
            "Please input a name: William\n",
            "William, 7 charachters\n"
          ]
        }
      ]
    },
    {
      "cell_type": "markdown",
      "metadata": {
        "id": "2UTCEzYtdPTH"
      },
      "source": [
        "## String Case Conversion  \n",
        "\n",
        "When you start to compare and search for strings, you will need to be aware that data doesn’t always turn up in the state we would like it.  People often forget to use capital letters at the beginning of their names and will sometimes use all capitals.  It is useful, therefore, to be able to convert a String either to all capitals or all lowercase, depending on how you want to see it.  \n",
        "\n",
        "There are three functions for this, which are linked to the String (here the String variable is called **name**).  \n",
        "\n",
        "*   **upper_case_name** = `name.upper()`\n",
        "*   **lower_case_name** = `name.lower()`\n",
        "*   **capitalised_name** = `name.capitalize()`\n"
      ]
    },
    {
      "cell_type": "markdown",
      "metadata": {
        "id": "X-Fv314Hdicp"
      },
      "source": [
        "---\n",
        "### Exercise 5 - case conversion  \n",
        "\n",
        "Write a function called **convert_to_capitals()** which will:  \n",
        "\n",
        "*  ask the user to input a **name** in lowercase letters\n",
        "*  assign the capitalised String to the variable **capitalised_name**\n",
        "*  print the `name` in capitals  \n",
        "\n",
        "**Test input**:  \n",
        "jaswinder  \n",
        "\n",
        "**Expected output**:  \n",
        "JASWINDER  \n"
      ]
    },
    {
      "cell_type": "code",
      "metadata": {
        "id": "aHDLaligd0Do",
        "colab": {
          "base_uri": "https://localhost:8080/"
        },
        "outputId": "827864b9-88a2-4d97-dc35-702779257bf1"
      },
      "source": [
        "def convert_to_capitals():\n",
        "  name = str(input(\"Please input name in lowercase: \"))\n",
        "  capitalised_name = name.upper()\n",
        "  print(capitalised_name)\n",
        "\n",
        "convert_to_capitals()"
      ],
      "execution_count": 15,
      "outputs": [
        {
          "output_type": "stream",
          "name": "stdout",
          "text": [
            "Please input name in lowercase: jaswinder\n",
            "JASWINDER\n"
          ]
        }
      ]
    },
    {
      "cell_type": "markdown",
      "metadata": {
        "id": "DZeyD6p8dusQ"
      },
      "source": [
        "---\n",
        "###Exercise 6 - case conversion  \n",
        "\n",
        "Write a function called **capitalise_names()** which will:  \n",
        "\n",
        "*  ask the user to input a **name** and a **surname**  \n",
        "*  print both `name` and `surname` in lowercase with a capital letter at the start, even if they didn't have capitals when they were typed in  \n",
        "\n",
        "**Test input**:  \n",
        "benJamIN  \n",
        "\n",
        "**Expected output**:  \n",
        "Benjamin\n"
      ]
    },
    {
      "cell_type": "code",
      "metadata": {
        "id": "bpCdYaPdap3V",
        "colab": {
          "base_uri": "https://localhost:8080/"
        },
        "outputId": "da0b499d-8dff-44c6-9f89-7f96b228b68c"
      },
      "source": [
        "def capitalise_name():\n",
        "  name = str(input(\"Please input name: \"))\n",
        "  surname = str(input(\"Please input surname: \"))\n",
        "\n",
        "  lowwer_name = name.lower()\n",
        "  lowwer_surname = surname.lower()\n",
        "\n",
        "  capitalised_name = lowwer_name.capitalize()\n",
        "  capitalised_surname = lowwer_surname.capitalize()\n",
        "\n",
        "  print(capitalised_name + \", \" + capitalised_surname)\n",
        "\n",
        "capitalise_name()"
      ],
      "execution_count": 16,
      "outputs": [
        {
          "output_type": "stream",
          "name": "stdout",
          "text": [
            "Please input name: benJamIN\n",
            "Please input surname: buTToN\n",
            "Benjamin, Button\n"
          ]
        }
      ]
    },
    {
      "cell_type": "markdown",
      "metadata": {
        "id": "8Q9-32tFaqLN"
      },
      "source": [
        "---\n",
        "### Exercise 7 - Substrings\n",
        "\n",
        "Write a function called **show_postcode_letters()** which will:   \n",
        "\n",
        "*  ask the user to enter a **postcode**  \n",
        "*  assign the first two letters of the postcode to a variable called **postcode_area**  \n",
        "*  convert the `postcode_area` String to capital letters and assign this to a variable called **capitalised_area**  \n",
        "*  print the `capitalised_area`  \n",
        "\n",
        "**Test input**:  \n",
        "Me4 6bb  \n",
        "\n",
        "**Expected output**:  \n",
        "ME\n"
      ]
    },
    {
      "cell_type": "code",
      "metadata": {
        "id": "dB3M2qagbUsE",
        "colab": {
          "base_uri": "https://localhost:8080/"
        },
        "outputId": "550ddae0-ccfb-4709-fbfe-e13bb9569a5e"
      },
      "source": [
        "def show_postcode_letters():\n",
        "  postcode = str(input(\"Please input postcode\"))\n",
        "  postcode_area = postcode[0:2]\n",
        "  capitalised_area = postcode_area.upper()\n",
        "\n",
        "  print(capitalised_area)\n",
        "\n",
        "show_postcode_letters()"
      ],
      "execution_count": 19,
      "outputs": [
        {
          "output_type": "stream",
          "name": "stdout",
          "text": [
            "Please input postcodeMe4 6bb\n",
            "ME\n"
          ]
        }
      ]
    },
    {
      "cell_type": "markdown",
      "metadata": {
        "id": "2eezJB2UbU1M"
      },
      "source": [
        "---\n",
        "### Exercise 8 - Floor division and slicing\n",
        "\n",
        "Write a function called **show_half_word()** which will:\n",
        "\n",
        "*  ask the user to enter a **word**  \n",
        "*  assign the value of half the length of the `word` to a variable called **half_length**  \n",
        "*  assign the first half of the `word` to a new variable called **half_word**  \n",
        "*  print `half_word`  \n",
        "\n",
        "*Hint:  when dividing the length of the word by 2, use floor division (//) so that you get a whole number of letters).  To get the first half of the word, use word[0:halfLength]*  \n",
        "\n",
        "**Test input**:  \n",
        "Runtime  \n",
        "\n",
        "**Expected output**:  \n",
        "Run"
      ]
    },
    {
      "cell_type": "code",
      "metadata": {
        "id": "Xx3zHFgab2pt",
        "colab": {
          "base_uri": "https://localhost:8080/"
        },
        "outputId": "208037cf-9d8c-4766-e7f1-e6eb7cb01eee"
      },
      "source": [
        "def show_half_word():\n",
        "  word = str(input(\"Please enter a word: \"))\n",
        "  half_length = len(word) // 2\n",
        "  half_word = word[0:half_length]\n",
        "\n",
        "  print(half_word)\n",
        "\n",
        "show_half_word()"
      ],
      "execution_count": 20,
      "outputs": [
        {
          "output_type": "stream",
          "name": "stdout",
          "text": [
            "Please enter a word: Runtime\n",
            "Run\n"
          ]
        }
      ]
    },
    {
      "cell_type": "markdown",
      "metadata": {
        "id": "0MdQRAo4b20u"
      },
      "source": [
        "---\n",
        "### Exercise 9 - String repetition\n",
        "\n",
        "Write a function called **repeat_two_letters()** which will:\n",
        "\n",
        "*  ask the user to enter a **word**  \n",
        "*  assign the last two letters of the `word` to a variable called **last_two**  \n",
        "*  assign a string made of 5 copies of the `last_two` (*Hint: `last_two`* * 5 *will do it)* to a variable called **five_copies**  \n",
        "*  print `five_copies`\n",
        "\n",
        "**Test input**:\n",
        "Data\n",
        "\n",
        "**Expected output**:\n",
        "tatatatata\n"
      ]
    },
    {
      "cell_type": "code",
      "metadata": {
        "id": "85-6jHD-cXRO",
        "colab": {
          "base_uri": "https://localhost:8080/"
        },
        "outputId": "b9fba798-be1d-4c49-afa5-660ed6a6298b"
      },
      "source": [
        "def repeat_two_letters():\n",
        "  word = str(input(\"Please input a word: \"))\n",
        "  last_two = word[-1] + word[-2]\n",
        "  five_copies = last_two * 5\n",
        "\n",
        "  print(five_copies)\n",
        "\n",
        "repeat_two_letters()"
      ],
      "execution_count": 26,
      "outputs": [
        {
          "output_type": "stream",
          "name": "stdout",
          "text": [
            "Please input a word: Data\n",
            "atatatatat\n"
          ]
        }
      ]
    },
    {
      "cell_type": "markdown",
      "metadata": {
        "id": "6P284VwXcXaU"
      },
      "source": [
        "---\n",
        "### Exercise 10 - converting String to lower case\n",
        "\n",
        "Write a function called **convert_to_lower_threeLetters()** which will:  \n",
        "\n",
        "*  assign the value “january” to a variable called **month**  \n",
        "*  assign the first three characters of `month` to a variable called **month_short**   \n",
        "*  capitalise `month_short` and store the result back in `month_short`\n",
        "*  assign the rest of the characters to a variable called **month_rest**  \n",
        "*  join `month_short` and `month_rest` together and store the result back into the variable `month`  \n",
        "*  print `month`  \n",
        "\n",
        "**Expected output**:  \n",
        "JANuary  "
      ]
    },
    {
      "cell_type": "code",
      "metadata": {
        "id": "GXqOeFwycuDD",
        "colab": {
          "base_uri": "https://localhost:8080/"
        },
        "outputId": "5014983a-9d33-44d0-a795-183aeffa7fde"
      },
      "source": [
        "def convert_to_lower_threeLetters():\n",
        "  month = str(\"january\")\n",
        "  month_short = month[0:3]\n",
        "  month_short = month_short.upper()\n",
        "  month_rest = month[3:len(month)]\n",
        "\n",
        "  month = month_short+month_rest\n",
        "\n",
        "  print(month)\n",
        "\n",
        "convert_to_lower_threeLetters()"
      ],
      "execution_count": 28,
      "outputs": [
        {
          "output_type": "stream",
          "name": "stdout",
          "text": [
            "JANuary\n"
          ]
        }
      ]
    },
    {
      "cell_type": "markdown",
      "source": [
        "---\n",
        "# Takeaways from this worksheet\n",
        "\n",
        "* text is stored in \"string\" variables\n",
        "* a string is a list of characters, with positions 0 to (length of string = 1)\n",
        "* you can get an character from a string using its position either from the beginning, e.g. name[0], or from the end, e.g. name[-1]\n",
        "* you can join two strings together using the + operator\n",
        "* you can extract a substring using \"slicing\" e.g. name[3:5]\n",
        "* you can find the length of a string using len()\n",
        "* you can change the case of the letters in a string using `.upper()`, `.lower()` and `capitalize()`\n",
        "\n",
        "Data sets often have columns of text data.  It is very common to need to standardise that text data by changing the case, adding prefixes or suffixes, or maybe by splitting off part of the string.\n",
        "\n",
        "\n",
        "\n",
        "\n",
        "\n"
      ],
      "metadata": {
        "id": "qcyQUkg6JOjQ"
      }
    },
    {
      "cell_type": "markdown",
      "source": [
        "# Your thoughts on what you have learnt  \n",
        "\n",
        "Please add some comments in the box below to reflect on what you have learnt through completing this worksheet, and any problems you encountered while doing so.\n"
      ],
      "metadata": {
        "id": "iUcgqmagJTFm"
      }
    },
    {
      "cell_type": "markdown",
      "source": [
        "It seemed straight forward enough, it follows a simmilar logic to the last excercise. The parts I had an issue with was wrapping my head aroung [0:3], despite going all the way to the 4th character, it only includes the first 3. I also couldnt figure out how to get a set of characters from [-1:-3]."
      ],
      "metadata": {
        "id": "JRFxF9iJJWRO"
      }
    }
  ]
}
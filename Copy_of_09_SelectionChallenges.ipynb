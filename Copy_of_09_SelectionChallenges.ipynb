{
  "nbformat": 4,
  "nbformat_minor": 0,
  "metadata": {
    "colab": {
      "provenance": [],
      "include_colab_link": true
    },
    "kernelspec": {
      "name": "python3",
      "display_name": "Python 3"
    }
  },
  "cells": [
    {
      "cell_type": "markdown",
      "metadata": {
        "id": "view-in-github",
        "colab_type": "text"
      },
      "source": [
        "<a href=\"https://colab.research.google.com/github/SpoonyGato/data-and-python/blob/main/Copy_of_09_SelectionChallenges.ipynb\" target=\"_parent\"><img src=\"https://colab.research.google.com/assets/colab-badge.svg\" alt=\"Open In Colab\"/></a>"
      ]
    },
    {
      "cell_type": "markdown",
      "metadata": {
        "id": "-QxAKPD8DZfj"
      },
      "source": [
        "# Three selection challenges\n",
        "\n",
        "---\n"
      ]
    },
    {
      "cell_type": "markdown",
      "metadata": {
        "id": "2KYUALILDcM9"
      },
      "source": [
        "### Challenge 1 - password format  \n",
        "\n",
        "Write a function called **check_password_valid()** which will check the validity of a **password** input by a user.\n",
        "\n",
        "Rules for a valid password are:  \n",
        "\n",
        "*  At least 1 letter between [a-z] and 1 letter between [A-Z].\n",
        "*  At least 1 number between [0-9].\n",
        "*  At least 1 character from [$#@].\n",
        "*  Minimum length 6 characters.\n",
        "*  Maximum length 16 characters.  \n",
        "\n",
        "Let the user know if the `password` they have typed is valid and, if not, where was the first error.\n",
        "\n",
        "*Hint:  to test if a set of characters is present in a password String, you can use re.search('[character set]', `password`)*  \n",
        "\n",
        "Example:   \n",
        "*if re.search('[a-z]',`password`):*    \n",
        "if there is at least 1 character a-z in the password, re.search will not be None.\n",
        "\n",
        "**re** is a pre-written Python function for pattern searching in Strings.  It has been imported for you in the code cell below.  "
      ]
    },
    {
      "cell_type": "code",
      "metadata": {
        "id": "8wBK9IA4BO2e",
        "colab": {
          "base_uri": "https://localhost:8080/"
        },
        "outputId": "dc3e262c-e325-4292-ce20-b4f6526d4692"
      },
      "source": [
        "import re\n",
        "\n",
        "# add your check_PasswordValid() function and call below here\n",
        "def check_PasswordValid():\n",
        "  password = str(input(\"Please input a password btween 6-16 characters, atleast 1 upper and lower case letter, 1 number, and a special character such ast $ # @: \"))\n",
        "\n",
        "\n",
        "  if len(password) >= 6 & len(password) <=16:\n",
        "    if re.search('[a-z]',password):\n",
        "      if re.search('[A-Z]',password):\n",
        "        if re.search('[0-9]',password):\n",
        "          if re.search('[$,#,@]',password):\n",
        "            print(\"Password valid\")\n",
        "          else:\n",
        "            print(\"Password invalid: Dosent contain either $,# or @\")\n",
        "        else:\n",
        "          print(\"Password invalid: Dosent contain a number\")\n",
        "      else:\n",
        "        print(\"Password invalid: Dosent contain a capital letter\")\n",
        "    else:\n",
        "      print(\"Password invalid: Dosent contain a lower case letter\")\n",
        "  else:\n",
        "    print(\"Password invalid: Password is not within 6-16 characters\")\n",
        "\n",
        "check_PasswordValid()"
      ],
      "execution_count": 12,
      "outputs": [
        {
          "output_type": "stream",
          "name": "stdout",
          "text": [
            "Please input a password btween 6-16 characters, atleast 1 upper and lower case letter, 1 number, and a special character such ast $ # @: Aasdf3$\n",
            "Password valid\n"
          ]
        }
      ]
    },
    {
      "cell_type": "markdown",
      "metadata": {
        "id": "f0R4GYTEFQS-"
      },
      "source": [
        "---\n",
        "### Challenge 2 - triangle shape  \n",
        "\n",
        "Write a function called **evaluate_triangle_shape()** which will check if a triangle is equilateral, isosceles or scalene, based on the three side lengths entered by a user (**x**, **y** and **z**.\n",
        "\n",
        "An equilateral triangle is a triangle in which all three sides are equal.\n",
        "A scalene triangle is a triangle that has three unequal sides.\n",
        "An isosceles triangle is a triangle with (at least) two equal sides.\n",
        "\n",
        "For example:  \n",
        "A triange with side lengths                                 \n",
        "x: 6                                                                    \n",
        "y: 8                                                                    \n",
        "z: 12                                                                   \n",
        "is a *Scalene triangle*\n",
        "\n",
        "A triangle with side lengths\n",
        "x:5  \n",
        "y:3   \n",
        "z:5  \n",
        "is an *Isosceles triangle*"
      ]
    },
    {
      "cell_type": "code",
      "metadata": {
        "id": "oBgl4ro1DVL0",
        "colab": {
          "base_uri": "https://localhost:8080/"
        },
        "outputId": "2e62d511-4a4c-43b5-b7b6-b4f91f82d9db"
      },
      "source": [
        "def evaluate_triangle_shape():\n",
        "  x = int(input(\"Please input one side of the triangle: \"))\n",
        "  y = int(input(\"Please input another side of the triangle: \"))\n",
        "  z = int(input(\"Please input the last side of the triangle: \"))\n",
        "\n",
        "  if x==y==z:\n",
        "    print(\"This triangle is equilateral\")\n",
        "  elif x==y or y==z or z==x:\n",
        "    print(\"This triangle is scalene\")\n",
        "  else:\n",
        "    print(\"This is an isosceles triangle\")\n",
        "\n",
        "evaluate_triangle_shape()"
      ],
      "execution_count": 18,
      "outputs": [
        {
          "output_type": "stream",
          "name": "stdout",
          "text": [
            "Please input one side of the triangle: 1\n",
            "Please input another side of the triangle: 2\n",
            "Please input the last side of the triangle: 3\n",
            "This is an isosceles triangle\n"
          ]
        }
      ]
    },
    {
      "cell_type": "markdown",
      "metadata": {
        "id": "hr2EotkqG33l"
      },
      "source": [
        "---\n",
        "### Challenge 3 - which season\n",
        "\n",
        "Write a function called **determine_season()** which will ask the user to enter two integers representing a **month** and **day** and prints the season for that month and day.\n",
        "\n",
        "Note:  for this exercise the season dates are:\n",
        "*  Winter December 21 to March 20    \n",
        "*  Spring March 21 to June 20  \n",
        "*  Summer June 21 to September 20  \n",
        "*  Autumn September 21 to December 20\n",
        "\n",
        "Test input:  \n",
        "Input the month (e.g. January, February etc.): 7                     \n",
        "Input the day: 31                                                       \n",
        "\n",
        "Expected output:  \n",
        "Season is summer\n",
        "\n",
        "*Note: this will require multiple and or or operators and you should use brackets to help Python know which operations to do first*  \n",
        "\n",
        "*For an extra challenge you can check that the day is valid for the month*"
      ]
    },
    {
      "cell_type": "code",
      "metadata": {
        "id": "cvbfz8nzG4IL",
        "colab": {
          "base_uri": "https://localhost:8080/"
        },
        "outputId": "d28e624c-cfae-403e-cba1-33a196240c7c"
      },
      "source": [
        "def determine_season():\n",
        "  month = int(input(\"Please input a month ie 10: \"))\n",
        "  day = int(input(\"Please input a day ie 23: \"))\n",
        "\n",
        "  if (month >= 12 and day >= 21) or (month <= 3 and day <= 20):\n",
        "    print(\"It is Winter\")\n",
        "\n",
        "  elif (month >= 2 and day >= 21) or (month <= 6 and day <= 20):\n",
        "    print(\"It is Spring\")\n",
        "\n",
        "  elif (month >= 6 and day >= 21) or (month <= 9 and day <= 20):\n",
        "    print(\"It is Summer\")\n",
        "\n",
        "  elif (month >=9 and day >= 21) or (month <= 12 and day <= 20):\n",
        "    print(\"It is Autum\")\n",
        "\n",
        "determine_season()"
      ],
      "execution_count": 37,
      "outputs": [
        {
          "output_type": "stream",
          "name": "stdout",
          "text": [
            "Please input a month ie 10: 6\n",
            "Please input a day ie 23: 20\n",
            "It is Spring\n"
          ]
        }
      ]
    },
    {
      "cell_type": "markdown",
      "source": [
        "---\n",
        "# Your thoughts on what you have learnt from these challenges  \n",
        "\n",
        "Please add some comments in the box below to reflect on what you have learnt through completing this worksheet, and any problems you encountered while doing so."
      ],
      "metadata": {
        "id": "xr6B589Youcr"
      }
    },
    {
      "cell_type": "markdown",
      "source": [
        "It was all fairly simple, just needed to apply what was previously taught. Although I had difficulty with excercise 3 where istead of \"and\" I had \"&\" which worked of the second operator but not the first: \"`if (month >= 12 and day >= 21) or (month <= 3 and day <= 20):`\". I dont know how it was broken but still worked.\n",
        "\n",
        "I do wonder though, is there a more efficent way to format the first excercise I did?"
      ],
      "metadata": {
        "id": "qIfjax_VovRz"
      }
    }
  ]
}
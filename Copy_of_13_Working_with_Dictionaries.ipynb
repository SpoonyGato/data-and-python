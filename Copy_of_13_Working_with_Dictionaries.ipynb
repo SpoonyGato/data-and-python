{
  "nbformat": 4,
  "nbformat_minor": 0,
  "metadata": {
    "colab": {
      "provenance": [],
      "include_colab_link": true
    },
    "kernelspec": {
      "name": "python3",
      "display_name": "Python 3"
    },
    "language_info": {
      "name": "python"
    }
  },
  "cells": [
    {
      "cell_type": "markdown",
      "metadata": {
        "id": "view-in-github",
        "colab_type": "text"
      },
      "source": [
        "<a href=\"https://colab.research.google.com/github/SpoonyGato/data-and-python/blob/main/Copy_of_13_Working_with_Dictionaries.ipynb\" target=\"_parent\"><img src=\"https://colab.research.google.com/assets/colab-badge.svg\" alt=\"Open In Colab\"/></a>"
      ]
    },
    {
      "cell_type": "markdown",
      "metadata": {
        "id": "AiiF1h2X4PHP"
      },
      "source": [
        "# Dictionaries\n",
        "\n",
        "---\n",
        "\n",
        "A **dictionary** is a collection of dissimilar data stored together in one *record*. Each item of data has a  (or key) that describes its paired value.  \n",
        "\n",
        "Create a dictionary object by declaring the set of keys and values, e.g.:\n",
        "\n",
        "```\n",
        "   transport = {\n",
        "       \"type\":\"bus\",\n",
        "       \"numPassengers\":72,\n",
        "       \"colour\":\"blue\",\n",
        "       \"fuel\":\"diesel\"\n",
        "   }\n",
        "```\n",
        "\n",
        "To access a value in a dictionary, use its key:  \n",
        "\n",
        "```\n",
        "transport[\"type\"] = \"coach\"\n",
        "transport_type = transport[\"type\"]\n",
        "transport_colour = transport[\"colour\"]\n",
        "transport[\"fuel\"] = petrol\n",
        "```\n",
        "\n",
        "To add a new key/value pair to a dictionary, simply assign a value to a new key:  \n",
        "```\n",
        "transport[\"seats\"] = 54\n",
        "```\n",
        "\n",
        "The transport dictionary will now look like this:  \n",
        "```\n",
        "   transport = {\n",
        "       \"type\":\"bus\",\n",
        "       \"numPassengers\":72,\n",
        "       \"colour\":\"blue\",\n",
        "       \"fuel\":\"diesel\",\n",
        "       \"seats\":54\n",
        "   }\n",
        "```\n",
        "\n"
      ]
    },
    {
      "cell_type": "markdown",
      "metadata": {
        "id": "1uZ5kNWB6CqK"
      },
      "source": [
        "---\n",
        "### Exercise 1 - print dictionary\n",
        "\n",
        "Write a function which will:  \n",
        "\n",
        "*  create an empty dictionary for a person (name, age and postcode, with values \"\", 0 and \"\")\n",
        "*  ask the user for name, age and postcode and assign the values to the correct keys in the dictionary  \n",
        "*  print the dictionary\n",
        "\n",
        "Test input:  \n",
        "Jack Jones  \n",
        "16  \n",
        "AB5 3DF  \n",
        "\n",
        "Expected output:  \n",
        "```{'name':'Jack Jones', 'age':16, 'postcode':'AB5 3DF'}```"
      ]
    },
    {
      "cell_type": "code",
      "metadata": {
        "id": "Ac7VQTj94Mrc",
        "colab": {
          "base_uri": "https://localhost:8080/"
        },
        "outputId": "7062afee-d380-4e71-ed89-3a6b8fad3576"
      },
      "source": [
        "personal_data = {\n",
        "    \"name\":\"\",\n",
        "    \"age\" : 0,\n",
        "    \"post_code\" : \"\"\n",
        "}\n",
        "\n",
        "personal_data[\"name\"] = input(\"Please input a name: \")\n",
        "personal_data[\"age\"] = int(input(\"Please enter an age: \"))\n",
        "personal_data[\"post_code\"] = input(\"Please enter a post code: \")\n",
        "\n",
        "print(personal_data)"
      ],
      "execution_count": 4,
      "outputs": [
        {
          "output_type": "stream",
          "name": "stdout",
          "text": [
            "Please input a name: Jack Jones\n",
            "Please enter an age: 16\n",
            "Please enter a post code: AB5 3DF\n",
            "{'name': 'Jack Jones', 'age': 16, 'post_code': 'AB5 3DF'}\n"
          ]
        }
      ]
    },
    {
      "cell_type": "markdown",
      "metadata": {
        "id": "0OtNqNKv7WKm"
      },
      "source": [
        "---\n",
        "### Exercise 2 - create a dictionary\n",
        "\n",
        "Write a function that will create two dictionaries,without values:  \n",
        "\n",
        "1.  person (with keys firstname, surname, birthdate, postcode)  \n",
        "2.  car (with key/value pairs as follows:  make - Vauxhall, model - Corsa, engineSize - 1199, fuelType - unleaded, num_doors - 4)  \n",
        "\n",
        "*   ask the user to enter the values for the person dictionary  \n",
        "*   print, on one line, the person's name from the person dictionary and the make of the car from the car dictionary.\n",
        "\n",
        "Test input:  \n",
        "Jack  \n",
        "Jones  \n",
        "2005/02/02    \n",
        "AB5 3DF  \n",
        "\n",
        "Expected output:  \n",
        "Jack Jones Vauxhall"
      ]
    },
    {
      "cell_type": "code",
      "metadata": {
        "id": "ZyqhaBCC-GdI",
        "colab": {
          "base_uri": "https://localhost:8080/"
        },
        "outputId": "fc59c77c-0779-44e6-b43e-a4691360f492"
      },
      "source": [
        "def Vehichle_Ownership():\n",
        "  owner = {\n",
        "    \"first name\" : \"\",\n",
        "    \"Surname\" : \"\",\n",
        "    \"Birth date\" : \"\",\n",
        "    \"post code\" : \"\"\n",
        "  }\n",
        "\n",
        "  vehicle = {\n",
        "      \"make\" : \"Vauxhall\",\n",
        "      \"modle\" : \"Corsa\",\n",
        "      \"engin size\" : \"1199\",\n",
        "      \"fuel type\" : \"unleaded\",\n",
        "      \"num doors\" : 4\n",
        "  }\n",
        "\n",
        "  owner[\"first name\"] = input(\"Please input your first name: \")\n",
        "  owner[\"Surname\"] = input(\"Please input your Surname: \")\n",
        "  owner[\"Birth date\"] = input(\"Please input your Birth date: \")\n",
        "  owner[\"post code\"] = input(\"Please input your post code: \")\n",
        "\n",
        "  print(owner[\"first name\"] + \" \" + owner[\"Surname\"] + \" \" + vehicle[\"make\"] + \" \" )\n",
        "\n",
        "Vehichle_Ownership()"
      ],
      "execution_count": 9,
      "outputs": [
        {
          "output_type": "stream",
          "name": "stdout",
          "text": [
            "Please input your first name: Jack\n",
            "Please input your Surname: Jones\n",
            "Please input your Birth date: 2005/02/02\n",
            "Please input your post code: dd1 3bq\n",
            "Jack Jones Vauxhall \n"
          ]
        }
      ]
    },
    {
      "cell_type": "markdown",
      "metadata": {
        "id": "gYuuOUYw-G4I"
      },
      "source": [
        "---\n",
        "### Exercise 3 - check dictionary values\n",
        "\n",
        "Write a new function which will:\n",
        "\n",
        "*  set up the same two dictionaries as in Exercise 2  \n",
        "*  ask the user to enter the details to complete the person record  \n",
        "*  calculate the person's age  \n",
        "*  if the person is under 17 then print a message to say that they can't buy a car as they are too young to drive\n",
        "*  else if the person is under 25 then print a message to say that an engine size under 1200 is recommended  \n",
        "*  ask the user to enter the make of car that the person is looking for  \n",
        "*  if the user enters the same make as that stored in the car record, then print a message to say that you have one car of that make in stock and print all the details of the car that you have the record for\n",
        "*  else (if the user enters any other car make) then print a message to say sorry that you don't have any cars of that make in stock\n",
        "*  print a message to say that the user can get more details for stockist in the <user's postcode> area if they call 01234567890\n",
        "*  print a message to say \"Thank you <user's name> for using our site\"  \n",
        "\n",
        "Test input:  \n",
        "Jack  \n",
        "Jones  \n",
        "2009/02/02  \n",
        "AB5 3DF  \n",
        "Vauxhall  \n",
        "\n",
        "Expected output:  \n",
        "You are too young to drive\n",
        "\n",
        "Test input:  \n",
        "John  \n",
        "Jones  \n",
        "2003/02/02  \n",
        "AB5 3DF  \n",
        "Vauxhall\n",
        "\n",
        "Expected output:  \n",
        "An engine size under 1200 is recommended  \n",
        "We have one Vauxhall in stock, details:  \n",
        "Make - Vauxhall    \n",
        "Model - Corsa    \n",
        "Engine size - 1199  \n",
        "Fuel type - unleaded   \n",
        "Number of doors - 4  \n",
        "You can get more details of stockists near AB5 3DF on 01234567890  \n",
        "Thank you John Jones for using our site.     \n",
        "\n",
        "Test input:  \n",
        "John  \n",
        "Jones  \n",
        "2003/02/02  \n",
        "AB5 3DF  \n",
        "Ford  \n",
        "\n",
        "Expected output:  \n",
        "An engine size under 1200 is recommended  \n",
        "Sorry, we don't have any of that make in stock  \n"
      ]
    },
    {
      "cell_type": "code",
      "metadata": {
        "id": "Wp9Il2JG_hDh",
        "colab": {
          "base_uri": "https://localhost:8080/"
        },
        "outputId": "1873a1d5-dbda-4baf-af7e-e6ecb7a37f17"
      },
      "source": [
        "from datetime import datetime, timedelta\n",
        "\n",
        "def Vehichle_Ownership():\n",
        "\n",
        "  age_verified = True\n",
        "\n",
        "  owner = {\n",
        "    \"first name\" : \"\",\n",
        "    \"Surname\" : \"\",\n",
        "    \"Birth date\" : \"\",\n",
        "    \"post code\" : \"\"\n",
        "  }\n",
        "\n",
        "  vehicle = {\n",
        "      \"make\" : \"Vauxhall\",\n",
        "      \"modle\" : \"Corsa\",\n",
        "      \"engin size\" : \"1199\",\n",
        "      \"fuel type\" : \"unleaded\",\n",
        "      \"num doors\" : 4\n",
        "  }\n",
        "\n",
        "  owner[\"first name\"] = input(\"Please input your first name: \")\n",
        "  owner[\"Surname\"] = input(\"Please input your Surname: \")\n",
        "  owner[\"Birth date\"] = input(\"Please input your Birth date (dd:mm:yyyy): \")\n",
        "  owner[\"post code\"] = input(\"Please input your post code: \")\n",
        "\n",
        "\n",
        "### Age Calculation ########################################################\n",
        "  d1 = datetime.strptime(owner[\"Birth date\"], \"%d:%m:%Y\")\n",
        "  d2 = datetime.now()\n",
        "  age = d2.year-d1.year - ((d2.month, d2.day)<(d1.month, d1.day))\n",
        "\n",
        "  if age < 17:\n",
        "    print(\"Can't buy a car as they are too young to drive\")\n",
        "    age_verified = False\n",
        "  elif age < 25:\n",
        "    print(\"An engine size under 1200 is recommended\")\n",
        "\n",
        "\n",
        "### Vehicle details ########################################################\n",
        "\n",
        "  if age_verified == True:\n",
        "   User_car = input(\"Please enter the make of car that the person is looking for: \")\n",
        "\n",
        "   if User_car == vehicle[\"make\"]:\n",
        "     print(vehicle[\"make\"] + \" is in stock\")\n",
        "     print(\"modle: \" + vehicle[\"modle\"])\n",
        "     print(\"engin size: \" + vehicle[\"engin size\"])\n",
        "     print(\"fuel type: \" + vehicle[\"fuel type\"])\n",
        "     print(\"num doors: \" + str(vehicle[\"num doors\"]))\n",
        "\n",
        "     print(\"Get more details for stockist in the \" + owner[\"post code\"] + \" by calling 01234567890\")\n",
        "     print(\"Thank you \" + owner[\"first name\"] + \" \" +owner[\"Surname\"] + \" for using our site\")\n",
        "\n",
        "   else:\n",
        "      print(\"Sorry we don't have any cars of that make in stock\")\n",
        "\n",
        "\n",
        "\n",
        "Vehichle_Ownership()"
      ],
      "execution_count": 35,
      "outputs": [
        {
          "output_type": "stream",
          "name": "stdout",
          "text": [
            "Please input your first name: Kieran\n",
            "Please input your Surname: Fowlie\n",
            "Please input your Birth date (dd:mm:yyyy): 26:10:2014\n",
            "Please input your post code: dd1 3bq\n",
            "Can't buy a car as they are too young to drive\n"
          ]
        }
      ]
    },
    {
      "cell_type": "markdown",
      "metadata": {
        "id": "I6dUiRwn7Gkg"
      },
      "source": [
        "---\n",
        "### Exercise 4 - print keys and values\n",
        "\n",
        "Two dictionaries have been created below.  You can print a list of the dictionary's keys using `dictionary_name.keys()` and the values using `dictionary_name.values()`\n",
        "\n",
        "Write a function which will accept a dictionary as a parameter and will:  \n",
        "*  print the dictionary keys as a list   \n",
        "*  print the dictionary values as a list  \n",
        "\n",
        "*Hint*:  you will need to cast the keys as a list (`list(dictionary_name.keys()`)  and do the same for the values.\n",
        "\n",
        "**Expected Output**\n",
        "\n",
        "Input: English  \n",
        "Output:\n",
        "['Andy', 'Angela']  \n",
        "[95, 53]  \n",
        "\n",
        "Input: Maths  \n",
        "Output:  \n",
        "['Andy', 'Angela']  \n",
        "[58, 72]\n",
        "\n",
        "\n",
        "\n"
      ]
    },
    {
      "cell_type": "code",
      "metadata": {
        "id": "FApOckhJEsMs",
        "colab": {
          "base_uri": "https://localhost:8080/"
        },
        "outputId": "27071764-781e-47bf-c083-18836cb82d94"
      },
      "source": [
        "def display_dictionary(scores):\n",
        "  #  add your code below this line\n",
        "  print(list(scores.keys()))\n",
        "  print(list(scores.values()))\n",
        "\n",
        "\n",
        "english_scores = {'Andy': 95, 'Angela': 53}\n",
        "maths_scores = {'Andy': 58, 'Angela': 72}\n",
        "display_dictionary(english_scores)\n",
        "display_dictionary(maths_scores)"
      ],
      "execution_count": 39,
      "outputs": [
        {
          "output_type": "stream",
          "name": "stdout",
          "text": [
            "['Andy', 'Angela']\n",
            "[95, 53]\n",
            "['Andy', 'Angela']\n",
            "[58, 72]\n"
          ]
        }
      ]
    },
    {
      "cell_type": "markdown",
      "metadata": {
        "id": "segSpkmBFSJl"
      },
      "source": [
        "---\n",
        "### Exercise 5 - add field\n",
        "\n",
        "Write a function which will:\n",
        "\n",
        "*  create a new dictionary called **science_scores** with values of 0 for both Andy and Angela\n",
        "*  update Andy's score for science to 73 and Angela's score to 73   \n",
        "*  create a new key/value pair by adding another learner to the `science_scores`  dictionary (George has a score of 55)    \n",
        "*  print the `science_scores` dictionary to check results  \n",
        "\n",
        "Expected Output\n",
        "\n",
        "{'Andy': 73, 'Angela': 73, 'George': 55}"
      ]
    },
    {
      "cell_type": "code",
      "metadata": {
        "id": "BL1JM-Z7Gttf",
        "colab": {
          "base_uri": "https://localhost:8080/"
        },
        "outputId": "d7b0f6ef-f57e-49d6-a934-af2556f24c09"
      },
      "source": [
        "def display_dictionary():\n",
        "  science_scores = {'Andy'    : 0,\n",
        "                    'Angela'  : 0\n",
        "                    }\n",
        "\n",
        "  science_scores['Andy'] = 73\n",
        "  science_scores['Angela'] = 73\n",
        "  science_scores['George'] = 55\n",
        "\n",
        "  print(science_scores)\n",
        "\n",
        "display_dictionary()"
      ],
      "execution_count": 40,
      "outputs": [
        {
          "output_type": "stream",
          "name": "stdout",
          "text": [
            "{'Andy': 73, 'Angela': 73, 'George': 55}\n"
          ]
        }
      ]
    },
    {
      "cell_type": "markdown",
      "metadata": {
        "id": "_Vzv0zlHGt-C"
      },
      "source": [
        "---\n",
        "### Exercise 6 - loop through keys/value pairs\n",
        "\n",
        "Write a function which will use a *for* loop to print the each key/value pair in the science dictionary (recreate this dictionary in this function)\n",
        "\n",
        "*(Hint: you can iterate through the key/value pairs in the dictionary in the same way as you iterate through a loop (e.g. for record in dictionary) and print the record (which is the key) and its value)*\n",
        "\n",
        "Expected output:  \n",
        "\n",
        "Angela 72  \n",
        "Andy 72  \n",
        "George 55  "
      ]
    },
    {
      "cell_type": "code",
      "metadata": {
        "id": "JL40_-W-Hxnt",
        "colab": {
          "base_uri": "https://localhost:8080/"
        },
        "outputId": "9c2fdef3-e3bf-48b7-fbca-6c3a75fd8355"
      },
      "source": [
        "science_scores = {'Andy'    : 73,\n",
        "                  'Angela'  : 73,\n",
        "                  'George'  : 55\n",
        "                    }\n",
        "\n",
        "for record in science_scores:\n",
        "  print(record + \" \" + str(science_scores[record]))"
      ],
      "execution_count": 45,
      "outputs": [
        {
          "output_type": "stream",
          "name": "stdout",
          "text": [
            "Andy 73\n",
            "Angela 73\n",
            "George 55\n"
          ]
        }
      ]
    },
    {
      "cell_type": "markdown",
      "metadata": {
        "id": "G9wamxzRJdrE"
      },
      "source": [
        "---\n",
        "### Exercise 7 - generate new dictionary  \n",
        "\n",
        "Write a functions which will:\n",
        "*  create a new dictionary where the keys are numbers between 1 and 15 (both included) and the values are square of keys\n",
        "*  print the dictionary\n",
        "\n",
        "Expected output:  \n",
        "{1: 1, 2: 4, 3: 9, 4: 16, 5: 25, 6: 36, 7: 49, 8: 64, 9: 81, 10: 100, 11: 121, 12: 144, 13: 169, 14: 196, 15: 225}"
      ]
    },
    {
      "cell_type": "code",
      "metadata": {
        "id": "1-LI-LVrJ--N",
        "colab": {
          "base_uri": "https://localhost:8080/"
        },
        "outputId": "b7933662-3f9d-4371-b9b6-3f873cae9791"
      },
      "source": [
        "def Dict_spuare():\n",
        "  squares = {}\n",
        "  for i in range(15):\n",
        "    squares[i+1] = pow(i+1,2)\n",
        "  print(squares)\n",
        "\n",
        "Dict_spuare()"
      ],
      "execution_count": 50,
      "outputs": [
        {
          "output_type": "stream",
          "name": "stdout",
          "text": [
            "{1: 1, 2: 4, 3: 9, 4: 16, 5: 25, 6: 36, 7: 49, 8: 64, 9: 81, 10: 100, 11: 121, 12: 144, 13: 169, 14: 196, 15: 225}\n"
          ]
        }
      ]
    },
    {
      "cell_type": "markdown",
      "metadata": {
        "id": "t0y4mefwJ_jQ"
      },
      "source": [
        "---\n",
        "### Exercise 8 - colour dictionary  \n",
        "\n",
        "Write a function which will:  \n",
        "*  create a new dictionary record called colour_codes with the values 'red' - '#FF0000', 'green' - '#008000', 'black' - '#000000', 'white' - '#FFFFFF'\n",
        "*  add a new colour code:  'blue' - '#0000FF'    \n",
        "*  remove the colours black and white from the dictionary  \n",
        "\n",
        "*Hint:  there is a list of methods [here](https://www.w3schools.com/python/python_ref_dictionary.asp)*  "
      ]
    },
    {
      "cell_type": "code",
      "metadata": {
        "id": "yod1mUNOMeWg",
        "colab": {
          "base_uri": "https://localhost:8080/"
        },
        "outputId": "eaf64942-df84-4d19-a071-890aeb45a809"
      },
      "source": [
        "colour_codes = {'red' : '#FF0000',\n",
        "                'green' : '#008000',\n",
        "                'black' : '#000000',\n",
        "                'white' : '#FFFFFF'}\n",
        "\n",
        "colour_codes['blue'] = '#0000FF'\n",
        "\n",
        "colour_codes.pop('black')\n",
        "colour_codes.pop('white')\n",
        "\n",
        "print(colour_codes)"
      ],
      "execution_count": 53,
      "outputs": [
        {
          "output_type": "stream",
          "name": "stdout",
          "text": [
            "{'red': '#FF0000', 'green': '#008000', 'blue': '#0000FF'}\n"
          ]
        }
      ]
    },
    {
      "cell_type": "markdown",
      "metadata": {
        "id": "gjos_0vuMeyS"
      },
      "source": [
        "---\n",
        "### Exercise 9 - item tuples  \n",
        "\n",
        "Write a function which will:  \n",
        "*  create a new dictionary containing the colour codes for red, green, blue, black and white\n",
        "*  print the key/value pairs of a dictionary as a list of tuples  \n",
        "\n",
        "*Hint:  iterate through colours.items()*"
      ]
    },
    {
      "cell_type": "code",
      "metadata": {
        "id": "EzuMkUypOKTY",
        "colab": {
          "base_uri": "https://localhost:8080/"
        },
        "outputId": "00cdbcbf-558e-4021-afbf-53a785c35e59"
      },
      "source": [
        "colour_codes = {'red' : '#FF0000',\n",
        "                'green' : '#008000',\n",
        "                'blue' : '#0000FF',\n",
        "                'black' : '#000000',\n",
        "                'white' : '#FFFFFF'}\n",
        "\n",
        "tuples = list(colour_codes.items())\n",
        "print(tuples)"
      ],
      "execution_count": 56,
      "outputs": [
        {
          "output_type": "stream",
          "name": "stdout",
          "text": [
            "[('red', '#FF0000'), ('green', '#008000'), ('blue', '#0000FF'), ('black', '#000000'), ('white', '#FFFFFF')]\n"
          ]
        }
      ]
    },
    {
      "cell_type": "markdown",
      "metadata": {
        "id": "Jw1ot10cOc6r"
      },
      "source": [
        "---\n",
        "### Exercise 10 - check if empty\n",
        "Taken from w3resouce.com  \n",
        "\n",
        "Write a function which will check if a dictionary is empty or not\n",
        "\n",
        "*Hint:  you can use bool(dictionary_name), if the dictionary is empty then bool(dictionary_name will be false)*\n",
        "\n",
        "Test 1 sample data:\n",
        "{}\n",
        "\n",
        "Expected output:\n",
        "Dictionary is empty  \n",
        "\n",
        "Test 2 sample data:  \n",
        "{\"name\":\"Groucho\", \"occupation\":\"comedian\"}\n",
        "\n",
        "Expected output:  \n",
        "Dictionary is not empty"
      ]
    },
    {
      "cell_type": "code",
      "metadata": {
        "id": "7UdM1TfwRqnt",
        "colab": {
          "base_uri": "https://localhost:8080/"
        },
        "outputId": "76684a11-d895-46d7-dbc7-008f8eccb372"
      },
      "source": [
        "#dct = {}\n",
        "dct = {\"name\":\"Groucho\", \"occupation\":\"comedian\"}\n",
        "\n",
        "if bool(dct) == False:\n",
        "  print(\"dictionarey is empty\")\n",
        "else:\n",
        "  print(\"Dictionarey is full\")"
      ],
      "execution_count": 60,
      "outputs": [
        {
          "output_type": "stream",
          "name": "stdout",
          "text": [
            "Dictionarey is full\n"
          ]
        }
      ]
    },
    {
      "cell_type": "markdown",
      "source": [
        "## Your thoughts on what you have learnt\n",
        "Please add some comments in the box below to reflect on what you have learnt through completing this worksheet, and any problems you encountered while doing so."
      ],
      "metadata": {
        "id": "EXYfVV1hv8U-"
      }
    },
    {
      "cell_type": "markdown",
      "source": [
        "everything up to excercise 9 has been pretty straight forward. Although I did have difficulty with understanding what excercise 9 was asking of me.\n",
        "\n",
        "I quite enjoyed this worksheet, it was nice and caliming after the last worksheet, although excercise 3 really tested me."
      ],
      "metadata": {
        "id": "e_295aNvv9U2"
      }
    }
  ]
}